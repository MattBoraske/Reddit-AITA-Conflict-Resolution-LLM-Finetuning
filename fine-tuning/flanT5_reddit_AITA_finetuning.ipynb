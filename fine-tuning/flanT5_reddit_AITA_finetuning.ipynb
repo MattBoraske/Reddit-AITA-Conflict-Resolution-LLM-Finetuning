{
  "cells": [
    {
      "cell_type": "markdown",
      "metadata": {
        "id": "view-in-github",
        "colab_type": "text"
      },
      "source": [
        "<a href=\"https://colab.research.google.com/github/MattBoraske/Reddit_AITA_Finetuning/blob/main/fine-tuning/flanT5_reddit_AITA_finetuning.ipynb\" target=\"_parent\"><img src=\"https://colab.research.google.com/assets/colab-badge.svg\" alt=\"Open In Colab\"/></a>"
      ]
    },
    {
      "cell_type": "markdown",
      "source": [
        "# Flan-T5 Reddit AITA Finetuning"
      ],
      "metadata": {
        "id": "aUPJ2f9IKDq9"
      }
    },
    {
      "cell_type": "markdown",
      "source": [
        "## Configure Training"
      ],
      "metadata": {
        "id": "kDjgLbKDMndD"
      }
    },
    {
      "cell_type": "code",
      "execution_count": null,
      "metadata": {
        "id": "eV6xMpyIEKqR"
      },
      "outputs": [],
      "source": [
        "%pip install transformers accelerate torch evaluate datasets rouge_score peft bitsandbytes tensorboard py7zr"
      ]
    },
    {
      "cell_type": "code",
      "execution_count": null,
      "metadata": {
        "id": "W9ggL-1qRCkS"
      },
      "outputs": [],
      "source": [
        "from google.colab import drive\n",
        "\n",
        "drive.mount('/content/drive', force_remount=True)"
      ]
    },
    {
      "cell_type": "code",
      "source": [
        "# set to where you want to save model checkpoints and logs\n",
        "%cd /content/drive/MyDrive/AITA_FINETUNED_MODELS"
      ],
      "metadata": {
        "id": "P-22M5hTNYXL"
      },
      "execution_count": null,
      "outputs": []
    },
    {
      "cell_type": "code",
      "source": [
        "############################\n",
        "## FINE-TUNING PARAMETERS ##\n",
        "############################\n",
        "\n",
        "BASE_MODEL_NAME = \"google/flan-t5-xxl\"\n",
        "FINETUNED_MODEL_NAME = \"flan-t5-xxl-reddit-AITA-top-2500\"\n",
        "FINETUNING_DATASET = \"MattBoraske/reddit-AITA-submissions-and-comments-top-2500\""
      ],
      "metadata": {
        "id": "gzbszWImJwr2"
      },
      "execution_count": 4,
      "outputs": []
    },
    {
      "cell_type": "markdown",
      "source": [
        "## Run Training"
      ],
      "metadata": {
        "id": "aaPrhhGLMqH4"
      }
    },
    {
      "cell_type": "markdown",
      "source": [
        "### Loading of PEFT Model"
      ],
      "metadata": {
        "id": "e0lEaEbCLaM-"
      }
    },
    {
      "cell_type": "code",
      "source": [
        "import torch\n",
        "\n",
        "def get_model_memory_size(model):\n",
        "    total_size = 0\n",
        "    for param in model.parameters():\n",
        "        # param.nelement() gives the total number of elements in the tensor,\n",
        "        # param.element_size() gives the size in bytes of each element in the tensor.\n",
        "        total_size += param.nelement() * param.element_size()\n",
        "    return total_size\n",
        "\n",
        "def get_model_memory_size_gb(model):\n",
        "    total_size_bytes = get_model_memory_size(model)\n",
        "    total_size_gb = total_size_bytes / (1024 ** 3)  # Convert bytes to gigabytes\n",
        "    return total_size_gb"
      ],
      "metadata": {
        "id": "FH-MXV9JLvJf"
      },
      "execution_count": 5,
      "outputs": []
    },
    {
      "cell_type": "code",
      "source": [
        "from transformers import AutoModelForSeq2SeqLM\n",
        "from transformers import AutoTokenizer\n",
        "from transformers import BitsAndBytesConfig\n",
        "import torch\n",
        "\n",
        "tokenizer = AutoTokenizer.from_pretrained(BASE_MODEL_NAME)\n",
        "\n",
        "quant_config = BitsAndBytesConfig(\n",
        "  load_in_4bit=True,\n",
        "  bnb_4bit_use_double_quant=True,\n",
        "  bnb_4bit_compute_dtype=torch.bfloat16\n",
        ")\n",
        "\n",
        "model = AutoModelForSeq2SeqLM.from_pretrained(\n",
        "  BASE_MODEL_NAME,\n",
        "  device_map=\"auto\",\n",
        "  quantization_config=quant_config,\n",
        "  torch_dtype=torch.bfloat16\n",
        ")\n",
        "\n",
        "print(f\"Base Model memory size: {get_model_memory_size_gb(model)} GB\")"
      ],
      "metadata": {
        "id": "Z-wwWJR8K4GV"
      },
      "execution_count": null,
      "outputs": []
    },
    {
      "cell_type": "code",
      "source": [
        "from peft import LoraConfig, get_peft_model, prepare_model_for_kbit_training, TaskType\n",
        "\n",
        "# Define LoRA Config\n",
        "lora_config = LoraConfig(\n",
        " r=16,\n",
        " lora_alpha=32,\n",
        " target_modules=[\"q\", \"v\"],\n",
        " lora_dropout=0.05,\n",
        " bias=\"none\",\n",
        " task_type=TaskType.SEQ_2_SEQ_LM\n",
        ")\n",
        "# prepare int-8 model for training\n",
        "model = prepare_model_for_kbit_training(model)\n",
        "\n",
        "# add LoRA adaptor\n",
        "peft_model = get_peft_model(model, lora_config)\n",
        "peft_model.print_trainable_parameters()\n",
        "peft_model.to(\"cuda\")\n",
        "\n",
        "print(f\"PEFT Model memory size: {get_model_memory_size_gb(peft_model)} GB\")"
      ],
      "metadata": {
        "id": "pJP6lpnVLm2P"
      },
      "execution_count": null,
      "outputs": []
    },
    {
      "cell_type": "markdown",
      "source": [
        "### Preparation of Model Inputs"
      ],
      "metadata": {
        "id": "TehamfgvLJ5o"
      }
    },
    {
      "cell_type": "code",
      "execution_count": 9,
      "metadata": {
        "id": "0RvO8KATymCo"
      },
      "outputs": [],
      "source": [
        "FLAN_T5_ENCODER_CONTEXT_WINDOW_SIZE = 1024\n",
        "FLAN_T5_DECODER_CONTEXT_WINDOW_SIZE = 256\n",
        "\n",
        "def preprocess_function(sample):\n",
        "\n",
        "    # tokenize inputs\n",
        "    model_inputs = tokenizer(sample['flanT5_instruction'], max_length=FLAN_T5_ENCODER_CONTEXT_WINDOW_SIZE, padding='max_length', truncation=True)\n",
        "\n",
        "    # Tokenize targets with the `text_target` keyword argument\n",
        "    labels = tokenizer(text_target=sample[\"top_comment_1\"], max_length=FLAN_T5_DECODER_CONTEXT_WINDOW_SIZE, padding='max_length', truncation=True)\n",
        "\n",
        "    model_inputs[\"labels\"] = labels[\"input_ids\"]\n",
        "    return model_inputs"
      ]
    },
    {
      "cell_type": "code",
      "execution_count": null,
      "metadata": {
        "id": "PVltZ0kK9UQH"
      },
      "outputs": [],
      "source": [
        "from datasets import load_dataset\n",
        "\n",
        "dataset = load_dataset(FINETUNING_DATASET)\n",
        "tokenized_dataset = dataset.map(preprocess_function, batched=True, remove_columns=[\"submission_title\", \"submission_text\", \"submission_score\", \"submission_url\", \"submission_date\", \"top_comment_1\", 'top_comment_2', 'top_comment_3', 'top_comment_4', 'top_comment_5', 'top_comment_6', 'top_comment_7', 'top_comment_8', 'top_comment_9', 'top_comment_10', 'top_comment_1_classification', 'top_comment_2_classification', 'top_comment_3_classification', 'top_comment_4_classification', 'top_comment_5_classification', 'top_comment_6_classification', 'top_comment_7_classification', 'top_comment_8_classification', 'top_comment_9_classification', 'top_comment_10_classification', 'ambiguity_score', 'AITA_decision', 'flanT5_instruction', 'llama2_instruction'])\n",
        "print(f\"Keys of tokenized dataset: {list(tokenized_dataset['train'].features)}\")"
      ]
    },
    {
      "cell_type": "markdown",
      "source": [
        "### Train PEFT Model"
      ],
      "metadata": {
        "id": "0nMSuAufMCn0"
      }
    },
    {
      "cell_type": "code",
      "execution_count": 11,
      "metadata": {
        "id": "-TA3IxUrGob_"
      },
      "outputs": [],
      "source": [
        "from transformers import DataCollatorForSeq2Seq\n",
        "\n",
        "# Data collator\n",
        "data_collator = DataCollatorForSeq2Seq(\n",
        "    tokenizer,\n",
        "    model=model,\n",
        "    label_pad_token_id=0, # ignore tokenizer pad token in the loss\n",
        "    pad_to_multiple_of=8\n",
        ")"
      ]
    },
    {
      "cell_type": "code",
      "execution_count": null,
      "metadata": {
        "id": "c6DSbIDSGr-4"
      },
      "outputs": [],
      "source": [
        "from transformers import Seq2SeqTrainer, Seq2SeqTrainingArguments\n",
        "\n",
        "output_dir=FINETUNED_MODEL_NAME\n",
        "\n",
        "# Define training args\n",
        "training_args = Seq2SeqTrainingArguments(\n",
        "    output_dir=output_dir,\n",
        "    auto_find_batch_size=True,\n",
        "    learning_rate=5e-4, # from FLAN-T5 paper - https://arxiv.org/pdf/2210.11416.pdf\n",
        "    num_train_epochs=2,\n",
        "    logging_dir=f\"{output_dir}/logs\",\n",
        "    logging_strategy=\"steps\",\n",
        "    logging_first_step=True,\n",
        "    logging_steps=10,\n",
        "    save_strategy=\"steps\",\n",
        "    save_steps=500,\n",
        "    report_to=\"tensorboard\",\n",
        ")\n",
        "\n",
        "# Create Trainer instance\n",
        "trainer = Seq2SeqTrainer(\n",
        "    model=peft_model,\n",
        "    args=training_args,\n",
        "    data_collator=data_collator,\n",
        "    train_dataset=tokenized_dataset['train'],\n",
        ")"
      ]
    },
    {
      "cell_type": "code",
      "execution_count": null,
      "metadata": {
        "id": "jOLORj2AGvXE"
      },
      "outputs": [],
      "source": [
        "# train model\n",
        "trainer.train()\n",
        "peft_model.push_to_hub(f\"MattBoraske/{FINETUNED_MODEL_NAME}\")"
      ]
    }
  ],
  "metadata": {
    "accelerator": "GPU",
    "colab": {
      "gpuType": "A100",
      "machine_shape": "hm",
      "provenance": [],
      "authorship_tag": "ABX9TyN4WFAbB/XdwA7Qo1nZ/KMo",
      "include_colab_link": true
    },
    "kernelspec": {
      "display_name": "Python 3",
      "name": "python3"
    },
    "language_info": {
      "name": "python"
    }
  },
  "nbformat": 4,
  "nbformat_minor": 0
}