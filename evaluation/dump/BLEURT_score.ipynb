{
  "cells": [
    {
      "cell_type": "code",
      "execution_count": null,
      "metadata": {
        "id": "_DJdylFg7f3H"
      },
      "outputs": [],
      "source": [
        "%pip install transformers accelerate torch evaluate datasets peft bitsandbytes"
      ]
    },
    {
      "cell_type": "markdown",
      "metadata": {
        "id": "dUOw2Xv5o6yB"
      },
      "source": [
        "# BLEURT score\n",
        "- [Link to Repo](https://github.com/google-research/bleurt/blob/master/checkpoints.md)\n",
        "- [HF Eval Page](https://huggingface.co/spaces/evaluate-metric/bleurt)"
      ]
    },
    {
      "cell_type": "code",
      "execution_count": null,
      "metadata": {
        "colab": {
          "base_uri": "https://localhost:8080/"
        },
        "id": "cfKUQj72pcX2",
        "outputId": "36cf85fc-7342-47b4-ce0a-d5a2e61e1d3a"
      },
      "outputs": [],
      "source": [
        "# mount gdrive to save results\n",
        "from google.colab import drive\n",
        "\n",
        "drive.mount('/content/drive', force_remount=True)"
      ]
    },
    {
      "cell_type": "code",
      "execution_count": null,
      "metadata": {
        "colab": {
          "base_uri": "https://localhost:8080/"
        },
        "id": "La3w20y0pbIB",
        "outputId": "e3f181a7-bd43-497d-d35a-7cf89fb44739"
      },
      "outputs": [],
      "source": [
        "%cd /content/drive/MyDrive/WCU_THESIS/AITA_Evaluation"
      ]
    },
    {
      "cell_type": "code",
      "execution_count": null,
      "metadata": {
        "id": "pW4A_k0Yppt9"
      },
      "outputs": [],
      "source": [
        "!pip install --upgrade pip  # ensures that pip is current\n",
        "!git clone https://github.com/google-research/bleurt.git\n",
        "%cd /content/drive/MyDrive/WCU_THESIS/AITA_Evaluation/bleurt\n",
        "!pip install -e ."
      ]
    },
    {
      "cell_type": "code",
      "execution_count": null,
      "metadata": {
        "colab": {
          "base_uri": "https://localhost:8080/"
        },
        "id": "WpMjUxL2sgGs",
        "outputId": "0590a94f-8e50-47a6-ce84-1970bc3512ea"
      },
      "outputs": [],
      "source": [
        "# Downloads the BLEURT-base checkpoint.\n",
        "!wget https://storage.googleapis.com/bleurt-oss-21/BLEURT-20.zip .\n",
        "!unzip BLEURT-20.zip"
      ]
    },
    {
      "cell_type": "code",
      "execution_count": null,
      "metadata": {
        "colab": {
          "base_uri": "https://localhost:8080/"
        },
        "id": "XhG9Uez2-LMY",
        "outputId": "4e094ad2-f073-4542-b792-6e5bb5148c6f"
      },
      "outputs": [],
      "source": [
        "%cd .."
      ]
    },
    {
      "cell_type": "code",
      "execution_count": null,
      "metadata": {
        "id": "zPhxrsJF9XLs"
      },
      "outputs": [],
      "source": [
        "import json\n",
        "\n",
        "with open('flanT5_small_evaluation/test_results.json', 'r') as file:\n",
        "    test_results = json.load(file)\n",
        "\n",
        "candidates = test_results['predictions']\n",
        "references = test_results['reference_texts']"
      ]
    },
    {
      "cell_type": "code",
      "execution_count": null,
      "metadata": {
        "id": "mh4xDvaq97m_"
      },
      "outputs": [],
      "source": [
        "# Open a file to write\n",
        "with open('flanT5_small_evaluation/test_result_pairs.jsonl', 'w') as file:\n",
        "    # Iterate over the zipped lists\n",
        "    for ref, cand in zip(references, candidates):\n",
        "        # Create a dictionary with the specified keys and values\n",
        "        json_object = {'reference': ref, 'candidate': cand}\n",
        "        # Convert the dictionary to a JSON string\n",
        "        json_str = json.dumps(json_object)\n",
        "        # Write the JSON string to the file with a newline\n",
        "        file.write(json_str + '\\n')"
      ]
    },
    {
      "cell_type": "code",
      "execution_count": null,
      "metadata": {
        "colab": {
          "base_uri": "https://localhost:8080/",
          "height": 36
        },
        "id": "61NF_TG-Acsg",
        "outputId": "82433ee4-7e5c-45f0-945f-ebb0a73240f3"
      },
      "outputs": [],
      "source": [
        "import shutil\n",
        "source_path = '/content/drive/MyDrive/WCU_THESIS/AITA_Evaluation/flanT5_small_evaluation/test_result_pairs.jsonl'\n",
        "destination_path = '/content/drive/MyDrive/WCU_THESIS/AITA_Evaluation/bleurt/test_result_pairs.jsonl'\n",
        "shutil.copy2(source_path, destination_path)"
      ]
    },
    {
      "cell_type": "code",
      "execution_count": null,
      "metadata": {
        "colab": {
          "base_uri": "https://localhost:8080/"
        },
        "id": "WkyIDUyA-WHQ",
        "outputId": "996b4e18-e536-4a92-e84d-af5b60682045"
      },
      "outputs": [],
      "source": [
        "%cd /content/drive/MyDrive/WCU_THESIS/AITA_Evaluation/bleurt"
      ]
    },
    {
      "cell_type": "code",
      "execution_count": null,
      "metadata": {
        "id": "n0Mo-DAZBe9q"
      },
      "outputs": [],
      "source": [
        "import json\n",
        "\n",
        "# Path to your JSONL file\n",
        "\n",
        "# Create an empty list to store the data\n",
        "test_result_pairs = []\n",
        "\n",
        "# Open the file and read line by line\n",
        "with open('test_result_pairs.jsonl', 'r') as file:\n",
        "    for line in file:\n",
        "        # Parse each line as a JSON object and add to the list\n",
        "        test_result_pairs.append(json.loads(line))\n"
      ]
    },
    {
      "cell_type": "code",
      "execution_count": null,
      "metadata": {
        "id": "kDWGi3BvINJe"
      },
      "outputs": [],
      "source": [
        "# create flan_t5_small_scores.txt\n",
        "!touch flan_t5_small_scores.txt"
      ]
    },
    {
      "cell_type": "code",
      "execution_count": null,
      "metadata": {
        "colab": {
          "base_uri": "https://localhost:8080/"
        },
        "id": "qU_pwOZSsvIE",
        "outputId": "e13c8f25-ddd3-4209-ccb1-d477b1d3adb7"
      },
      "outputs": [],
      "source": [
        "!python -m bleurt.score_files \\\n",
        "  -sentence_pairs_file=test_result_pairs.jsonl \\\n",
        "  -bleurt_checkpoint=BLEURT-20 \\\n",
        "  -scores_file=flan_t5_small_scores.txt"
      ]
    },
    {
      "cell_type": "code",
      "execution_count": null,
      "metadata": {
        "id": "U5Fu7pbWuBs1"
      },
      "outputs": [],
      "source": []
    }
  ],
  "metadata": {
    "accelerator": "GPU",
    "colab": {
      "gpuType": "A100",
      "machine_shape": "hm",
      "provenance": []
    },
    "kernelspec": {
      "display_name": "Python 3",
      "name": "python3"
    },
    "language_info": {
      "name": "python"
    }
  },
  "nbformat": 4,
  "nbformat_minor": 0
}
