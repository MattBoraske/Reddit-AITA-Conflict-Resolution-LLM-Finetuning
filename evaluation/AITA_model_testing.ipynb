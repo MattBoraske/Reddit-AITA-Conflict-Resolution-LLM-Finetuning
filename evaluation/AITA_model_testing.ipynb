{
  "cells": [
    {
      "cell_type": "markdown",
      "metadata": {
        "id": "6VextYfFgmoy"
      },
      "source": [
        "# Reddit AITA Finetuned Model Testing"
      ]
    },
    {
      "cell_type": "code",
      "execution_count": null,
      "metadata": {
        "id": "0iJafAKSgmoz"
      },
      "outputs": [],
      "source": [
        "%pip install peft transformers datasets accelerate bitsnbytes"
      ]
    },
    {
      "cell_type": "code",
      "execution_count": null,
      "metadata": {
        "id": "lwm3tEOX8854"
      },
      "outputs": [],
      "source": [
        "from transformers import AutoModelForSeq2SeqLM, AutoModelForCausalLM, AutoTokenizer\n",
        "from datasets import load_dataset\n",
        "import torch\n",
        "from random import randrange\n",
        "import textwrap"
      ]
    },
    {
      "cell_type": "code",
      "execution_count": null,
      "metadata": {
        "id": "ik9KWgrsgmo0"
      },
      "outputs": [],
      "source": [
        "from huggingface_hub import login\n",
        "login()"
      ]
    },
    {
      "cell_type": "markdown",
      "metadata": {
        "id": "v9uDhssqjhR_"
      },
      "source": [
        "# Flan-T5 Finetuned Model"
      ]
    },
    {
      "cell_type": "code",
      "execution_count": null,
      "metadata": {
        "id": "6wKZBu2krQAY"
      },
      "outputs": [],
      "source": [
        "from datasets import load_dataset\n",
        "dataset = load_dataset(\"MattBoraske/reddit-AITA-binary-submissions-and-comments-top-2k\")"
      ]
    },
    {
      "cell_type": "code",
      "execution_count": null,
      "metadata": {
        "id": "dwzHTcG_rCCv"
      },
      "outputs": [],
      "source": [
        "hf_repo = \"MattBoraske/flan-t5-xl-reddit-AITA-binary-top-2k\""
      ]
    },
    {
      "cell_type": "code",
      "execution_count": null,
      "metadata": {
        "id": "UnkLp0AgqngD"
      },
      "outputs": [],
      "source": [
        "tokenizer = AutoTokenizer.from_pretrained(hf_repo)\n",
        "model = AutoModelForSeq2SeqLM.from_pretrained(\n",
        "  hf_repo,\n",
        "  device_map='auto',\n",
        "  torch_dtype=torch.bfloat16\n",
        ")"
      ]
    },
    {
      "cell_type": "code",
      "execution_count": null,
      "metadata": {
        "id": "D8wXsXefgmo1"
      },
      "outputs": [],
      "source": [
        "sample = dataset['test'][randrange(len(dataset[\"test\"]))]\n",
        "print(sample['submission_text'])\n",
        "print()\n",
        "print(sample['top_comment_1_classification'])\n",
        "print()\n",
        "print(sample['top_comment_1'])"
      ]
    },
    {
      "cell_type": "code",
      "execution_count": null,
      "metadata": {
        "id": "D72sMVs3gmo1"
      },
      "outputs": [],
      "source": [
        "input_ids = tokenizer(sample['flanT5_instruction'], max_length=1024, padding='max_length', return_tensors=\"pt\", truncation=True).input_ids.cuda()\n",
        "\n",
        "for i in range(5):\n",
        "\n",
        "  outputs = model.generate(\n",
        "    input_ids=input_ids,\n",
        "    # max new tokens set to 256 as part of model generation config\n",
        "  )\n",
        "\n",
        "  prediction = tokenizer.decode(outputs[0].detach().cpu().numpy(), skip_special_tokens=True)\n",
        "  print(textwrap.fill(prediction, width=100))\n",
        "  print()"
      ]
    },
    {
      "cell_type": "markdown",
      "metadata": {
        "id": "0WD1bIVyjjYA"
      },
      "source": [
        "# Llama-2 Finetuned Model"
      ]
    },
    {
      "cell_type": "code",
      "execution_count": null,
      "metadata": {
        "id": "s1e_7_wArRkN"
      },
      "outputs": [],
      "source": [
        "from datasets import load_dataset\n",
        "dataset = load_dataset(\"MattBoraske/reddit-AITA-binary-submissions-and-comments\")"
      ]
    },
    {
      "cell_type": "code",
      "execution_count": null,
      "metadata": {
        "id": "EBgBvamE0fkt"
      },
      "outputs": [],
      "source": [
        "hf_repo = \"MattBoraske/llama-2-7b-chat-reddit-AITA-binary\""
      ]
    },
    {
      "cell_type": "code",
      "execution_count": null,
      "metadata": {
        "id": "B8qqct8DjkYs"
      },
      "outputs": [],
      "source": [
        "tokenizer = AutoTokenizer.from_pretrained(hf_repo)\n",
        "model = AutoModelForCausalLM.from_pretrained(\n",
        "  hf_repo,\n",
        "  device_map='auto',\n",
        "  torch_dtype=torch.bfloat16\n",
        ")"
      ]
    },
    {
      "cell_type": "code",
      "execution_count": null,
      "metadata": {
        "id": "TlHDs24Vuzwu"
      },
      "outputs": [],
      "source": [
        "sample = dataset['test'][randrange(len(dataset[\"test\"]))]\n",
        "print(sample['submission_text'])\n",
        "print()\n",
        "print(sample['top_comment_1_classification'])\n",
        "print()\n",
        "print(sample['top_comment_1'])"
      ]
    },
    {
      "cell_type": "code",
      "execution_count": null,
      "metadata": {
        "id": "FjpeaHZzvQH4"
      },
      "outputs": [],
      "source": [
        "input_ids = tokenizer(sample['llama2_instruction'], return_tensors=\"pt\").input_ids.cuda()\n",
        "\n",
        "for i in range(5):\n",
        "\n",
        "  outputs = model.generate(\n",
        "    input_ids=input_ids,\n",
        "    max_new_tokens=256 # to guard against really long (unintended) generations where the model keeps repeating itself\n",
        "  )\n",
        "\n",
        "  prediction = tokenizer.decode(outputs[0].detach().cpu().numpy(), skip_special_tokens=True)\n",
        "  print(textwrap.fill(prediction, width=200))\n",
        "  print()"
      ]
    }
  ],
  "metadata": {
    "accelerator": "GPU",
    "colab": {
      "gpuType": "A100",
      "machine_shape": "hm",
      "provenance": []
    },
    "kernelspec": {
      "display_name": "Python 3",
      "name": "python3"
    },
    "language_info": {
      "codemirror_mode": {
        "name": "ipython",
        "version": 3
      },
      "file_extension": ".py",
      "mimetype": "text/x-python",
      "name": "python",
      "nbconvert_exporter": "python",
      "pygments_lexer": "ipython3",
      "version": "3.10.11"
    }
  },
  "nbformat": 4,
  "nbformat_minor": 0
}
