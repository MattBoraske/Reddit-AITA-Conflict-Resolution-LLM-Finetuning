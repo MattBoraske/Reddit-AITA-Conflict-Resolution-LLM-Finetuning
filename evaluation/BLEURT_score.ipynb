{
  "cells": [
    {
      "cell_type": "code",
      "execution_count": null,
      "metadata": {
        "id": "_DJdylFg7f3H"
      },
      "outputs": [],
      "source": [
        "%pip install transformers accelerate bitsandbytes"
      ]
    },
    {
      "cell_type": "markdown",
      "metadata": {
        "id": "dUOw2Xv5o6yB"
      },
      "source": [
        "# BLEURT score\n",
        "- [Link to Repo](https://github.com/google-research/bleurt/blob/master/checkpoints.md)"
      ]
    },
    {
      "cell_type": "code",
      "execution_count": null,
      "metadata": {
        "colab": {
          "base_uri": "https://localhost:8080/"
        },
        "id": "cfKUQj72pcX2",
        "outputId": "36cf85fc-7342-47b4-ce0a-d5a2e61e1d3a"
      },
      "outputs": [],
      "source": [
        "# mount gdrive to save results\n",
        "from google.colab import drive\n",
        "\n",
        "drive.mount('/content/drive', force_remount=True)"
      ]
    },
    {
      "cell_type": "code",
      "execution_count": null,
      "metadata": {
        "colab": {
          "base_uri": "https://localhost:8080/"
        },
        "id": "La3w20y0pbIB",
        "outputId": "e3f181a7-bd43-497d-d35a-7cf89fb44739"
      },
      "outputs": [],
      "source": [
        "%cd /content/drive/MyDrive/WCU_THESIS/AITA_Evaluation"
      ]
    },
    {
      "cell_type": "code",
      "execution_count": 3,
      "metadata": {},
      "outputs": [
        {
          "data": {
            "text/plain": [
              "'c:\\\\Users\\\\mattb\\\\Documents\\\\GitHub\\\\Reddit_AITA_Finetuning\\\\evaluation\\\\dump'"
            ]
          },
          "execution_count": 3,
          "metadata": {},
          "output_type": "execute_result"
        }
      ],
      "source": [
        "%pwd"
      ]
    },
    {
      "cell_type": "code",
      "execution_count": 1,
      "metadata": {
        "id": "pW4A_k0Yppt9"
      },
      "outputs": [
        {
          "name": "stderr",
          "output_type": "stream",
          "text": [
            "ERROR: Invalid requirement: '#'\n"
          ]
        },
        {
          "name": "stdout",
          "output_type": "stream",
          "text": [
            "[WinError 3] The system cannot find the path specified: '/content/drive/MyDrive/WCU_THESIS/AITA_Evaluation/bleurt'\n",
            "c:\\Users\\mattb\\Documents\\GitHub\\Reddit_AITA_Finetuning\\evaluation\\dump\n"
          ]
        },
        {
          "name": "stderr",
          "output_type": "stream",
          "text": [
            "Cloning into 'bleurt'...\n",
            "c:\\Users\\mattb\\Documents\\GitHub\\Reddit_AITA_Finetuning\\aita-finetuning\\Lib\\site-packages\\IPython\\core\\magics\\osm.py:393: UserWarning: This is now an optional IPython functionality, using bookmarks requires you to install the `pickleshare` library.\n",
            "  bkms = self.shell.db.get('bookmarks', {})\n"
          ]
        },
        {
          "name": "stdout",
          "output_type": "stream",
          "text": [
            "Obtaining file:///C:/Users/mattb/Documents/GitHub/Reddit_AITA_Finetuning/evaluation/dump\n"
          ]
        },
        {
          "name": "stderr",
          "output_type": "stream",
          "text": [
            "ERROR: file:///C:/Users/mattb/Documents/GitHub/Reddit_AITA_Finetuning/evaluation/dump does not appear to be a Python project: neither 'setup.py' nor 'pyproject.toml' found.\n"
          ]
        }
      ],
      "source": [
        "!git clone https://github.com/google-research/bleurt.git"
      ]
    },
    {
      "cell_type": "code",
      "execution_count": 4,
      "metadata": {},
      "outputs": [
        {
          "name": "stdout",
          "output_type": "stream",
          "text": [
            "c:\\Users\\mattb\\Documents\\GitHub\\Reddit_AITA_Finetuning\\evaluation\\dump\\bleurt\n"
          ]
        },
        {
          "name": "stderr",
          "output_type": "stream",
          "text": [
            "c:\\Users\\mattb\\Documents\\GitHub\\Reddit_AITA_Finetuning\\aita-finetuning\\Lib\\site-packages\\IPython\\core\\magics\\osm.py:417: UserWarning: This is now an optional IPython functionality, setting dhist requires you to install the `pickleshare` library.\n",
            "  self.shell.db['dhist'] = compress_dhist(dhist)[-100:]\n"
          ]
        }
      ],
      "source": [
        "%cd bleurt"
      ]
    },
    {
      "cell_type": "code",
      "execution_count": 5,
      "metadata": {},
      "outputs": [
        {
          "name": "stdout",
          "output_type": "stream",
          "text": [
            "Obtaining file:///C:/Users/mattb/Documents/GitHub/Reddit_AITA_Finetuning/evaluation/dump/bleurt\n",
            "  Preparing metadata (setup.py): started\n",
            "  Preparing metadata (setup.py): finished with status 'done'\n",
            "Requirement already satisfied: pandas in c:\\users\\mattb\\documents\\github\\reddit_aita_finetuning\\aita-finetuning\\lib\\site-packages (from BLEURT==0.0.2) (2.2.1)\n",
            "Requirement already satisfied: numpy in c:\\users\\mattb\\documents\\github\\reddit_aita_finetuning\\aita-finetuning\\lib\\site-packages (from BLEURT==0.0.2) (1.26.4)\n",
            "Requirement already satisfied: scipy in c:\\users\\mattb\\documents\\github\\reddit_aita_finetuning\\aita-finetuning\\lib\\site-packages (from BLEURT==0.0.2) (1.12.0)\n",
            "Requirement already satisfied: tensorflow in c:\\users\\mattb\\documents\\github\\reddit_aita_finetuning\\aita-finetuning\\lib\\site-packages (from BLEURT==0.0.2) (2.16.1)\n",
            "Requirement already satisfied: tf-slim>=1.1 in c:\\users\\mattb\\documents\\github\\reddit_aita_finetuning\\aita-finetuning\\lib\\site-packages (from BLEURT==0.0.2) (1.1.0)\n",
            "Requirement already satisfied: sentencepiece in c:\\users\\mattb\\documents\\github\\reddit_aita_finetuning\\aita-finetuning\\lib\\site-packages (from BLEURT==0.0.2) (0.1.99)\n",
            "Requirement already satisfied: absl-py>=0.2.2 in c:\\users\\mattb\\documents\\github\\reddit_aita_finetuning\\aita-finetuning\\lib\\site-packages (from tf-slim>=1.1->BLEURT==0.0.2) (2.1.0)\n",
            "Requirement already satisfied: python-dateutil>=2.8.2 in c:\\users\\mattb\\documents\\github\\reddit_aita_finetuning\\aita-finetuning\\lib\\site-packages (from pandas->BLEURT==0.0.2) (2.9.0.post0)\n",
            "Requirement already satisfied: pytz>=2020.1 in c:\\users\\mattb\\documents\\github\\reddit_aita_finetuning\\aita-finetuning\\lib\\site-packages (from pandas->BLEURT==0.0.2) (2024.1)\n",
            "Requirement already satisfied: tzdata>=2022.7 in c:\\users\\mattb\\documents\\github\\reddit_aita_finetuning\\aita-finetuning\\lib\\site-packages (from pandas->BLEURT==0.0.2) (2024.1)\n",
            "Requirement already satisfied: tensorflow-intel==2.16.1 in c:\\users\\mattb\\documents\\github\\reddit_aita_finetuning\\aita-finetuning\\lib\\site-packages (from tensorflow->BLEURT==0.0.2) (2.16.1)\n",
            "Requirement already satisfied: astunparse>=1.6.0 in c:\\users\\mattb\\documents\\github\\reddit_aita_finetuning\\aita-finetuning\\lib\\site-packages (from tensorflow-intel==2.16.1->tensorflow->BLEURT==0.0.2) (1.6.3)\n",
            "Requirement already satisfied: flatbuffers>=23.5.26 in c:\\users\\mattb\\documents\\github\\reddit_aita_finetuning\\aita-finetuning\\lib\\site-packages (from tensorflow-intel==2.16.1->tensorflow->BLEURT==0.0.2) (24.3.25)\n",
            "Requirement already satisfied: gast!=0.5.0,!=0.5.1,!=0.5.2,>=0.2.1 in c:\\users\\mattb\\documents\\github\\reddit_aita_finetuning\\aita-finetuning\\lib\\site-packages (from tensorflow-intel==2.16.1->tensorflow->BLEURT==0.0.2) (0.5.4)\n",
            "Requirement already satisfied: google-pasta>=0.1.1 in c:\\users\\mattb\\documents\\github\\reddit_aita_finetuning\\aita-finetuning\\lib\\site-packages (from tensorflow-intel==2.16.1->tensorflow->BLEURT==0.0.2) (0.2.0)\n",
            "Requirement already satisfied: h5py>=3.10.0 in c:\\users\\mattb\\documents\\github\\reddit_aita_finetuning\\aita-finetuning\\lib\\site-packages (from tensorflow-intel==2.16.1->tensorflow->BLEURT==0.0.2) (3.10.0)\n",
            "Requirement already satisfied: libclang>=13.0.0 in c:\\users\\mattb\\documents\\github\\reddit_aita_finetuning\\aita-finetuning\\lib\\site-packages (from tensorflow-intel==2.16.1->tensorflow->BLEURT==0.0.2) (18.1.1)\n",
            "Requirement already satisfied: ml-dtypes~=0.3.1 in c:\\users\\mattb\\documents\\github\\reddit_aita_finetuning\\aita-finetuning\\lib\\site-packages (from tensorflow-intel==2.16.1->tensorflow->BLEURT==0.0.2) (0.3.2)\n",
            "Requirement already satisfied: opt-einsum>=2.3.2 in c:\\users\\mattb\\documents\\github\\reddit_aita_finetuning\\aita-finetuning\\lib\\site-packages (from tensorflow-intel==2.16.1->tensorflow->BLEURT==0.0.2) (3.3.0)\n",
            "Requirement already satisfied: packaging in c:\\users\\mattb\\documents\\github\\reddit_aita_finetuning\\aita-finetuning\\lib\\site-packages (from tensorflow-intel==2.16.1->tensorflow->BLEURT==0.0.2) (24.0)\n",
            "Requirement already satisfied: protobuf!=4.21.0,!=4.21.1,!=4.21.2,!=4.21.3,!=4.21.4,!=4.21.5,<5.0.0dev,>=3.20.3 in c:\\users\\mattb\\documents\\github\\reddit_aita_finetuning\\aita-finetuning\\lib\\site-packages (from tensorflow-intel==2.16.1->tensorflow->BLEURT==0.0.2) (4.25.3)\n",
            "Requirement already satisfied: requests<3,>=2.21.0 in c:\\users\\mattb\\documents\\github\\reddit_aita_finetuning\\aita-finetuning\\lib\\site-packages (from tensorflow-intel==2.16.1->tensorflow->BLEURT==0.0.2) (2.31.0)\n",
            "Requirement already satisfied: setuptools in c:\\users\\mattb\\documents\\github\\reddit_aita_finetuning\\aita-finetuning\\lib\\site-packages (from tensorflow-intel==2.16.1->tensorflow->BLEURT==0.0.2) (65.5.0)\n",
            "Requirement already satisfied: six>=1.12.0 in c:\\users\\mattb\\documents\\github\\reddit_aita_finetuning\\aita-finetuning\\lib\\site-packages (from tensorflow-intel==2.16.1->tensorflow->BLEURT==0.0.2) (1.16.0)\n",
            "Requirement already satisfied: termcolor>=1.1.0 in c:\\users\\mattb\\documents\\github\\reddit_aita_finetuning\\aita-finetuning\\lib\\site-packages (from tensorflow-intel==2.16.1->tensorflow->BLEURT==0.0.2) (2.4.0)\n",
            "Requirement already satisfied: typing-extensions>=3.6.6 in c:\\users\\mattb\\documents\\github\\reddit_aita_finetuning\\aita-finetuning\\lib\\site-packages (from tensorflow-intel==2.16.1->tensorflow->BLEURT==0.0.2) (4.10.0)\n",
            "Requirement already satisfied: wrapt>=1.11.0 in c:\\users\\mattb\\documents\\github\\reddit_aita_finetuning\\aita-finetuning\\lib\\site-packages (from tensorflow-intel==2.16.1->tensorflow->BLEURT==0.0.2) (1.16.0)\n",
            "Requirement already satisfied: grpcio<2.0,>=1.24.3 in c:\\users\\mattb\\documents\\github\\reddit_aita_finetuning\\aita-finetuning\\lib\\site-packages (from tensorflow-intel==2.16.1->tensorflow->BLEURT==0.0.2) (1.62.1)\n",
            "Requirement already satisfied: tensorboard<2.17,>=2.16 in c:\\users\\mattb\\documents\\github\\reddit_aita_finetuning\\aita-finetuning\\lib\\site-packages (from tensorflow-intel==2.16.1->tensorflow->BLEURT==0.0.2) (2.16.2)\n",
            "Requirement already satisfied: keras>=3.0.0 in c:\\users\\mattb\\documents\\github\\reddit_aita_finetuning\\aita-finetuning\\lib\\site-packages (from tensorflow-intel==2.16.1->tensorflow->BLEURT==0.0.2) (3.1.1)\n",
            "Requirement already satisfied: tensorflow-io-gcs-filesystem>=0.23.1 in c:\\users\\mattb\\documents\\github\\reddit_aita_finetuning\\aita-finetuning\\lib\\site-packages (from tensorflow-intel==2.16.1->tensorflow->BLEURT==0.0.2) (0.31.0)\n",
            "Requirement already satisfied: wheel<1.0,>=0.23.0 in c:\\users\\mattb\\documents\\github\\reddit_aita_finetuning\\aita-finetuning\\lib\\site-packages (from astunparse>=1.6.0->tensorflow-intel==2.16.1->tensorflow->BLEURT==0.0.2) (0.43.0)\n",
            "Requirement already satisfied: rich in c:\\users\\mattb\\documents\\github\\reddit_aita_finetuning\\aita-finetuning\\lib\\site-packages (from keras>=3.0.0->tensorflow-intel==2.16.1->tensorflow->BLEURT==0.0.2) (13.7.1)\n",
            "Requirement already satisfied: namex in c:\\users\\mattb\\documents\\github\\reddit_aita_finetuning\\aita-finetuning\\lib\\site-packages (from keras>=3.0.0->tensorflow-intel==2.16.1->tensorflow->BLEURT==0.0.2) (0.0.7)\n",
            "Requirement already satisfied: optree in c:\\users\\mattb\\documents\\github\\reddit_aita_finetuning\\aita-finetuning\\lib\\site-packages (from keras>=3.0.0->tensorflow-intel==2.16.1->tensorflow->BLEURT==0.0.2) (0.11.0)\n",
            "Requirement already satisfied: charset-normalizer<4,>=2 in c:\\users\\mattb\\documents\\github\\reddit_aita_finetuning\\aita-finetuning\\lib\\site-packages (from requests<3,>=2.21.0->tensorflow-intel==2.16.1->tensorflow->BLEURT==0.0.2) (3.3.2)\n",
            "Requirement already satisfied: idna<4,>=2.5 in c:\\users\\mattb\\documents\\github\\reddit_aita_finetuning\\aita-finetuning\\lib\\site-packages (from requests<3,>=2.21.0->tensorflow-intel==2.16.1->tensorflow->BLEURT==0.0.2) (3.6)\n",
            "Requirement already satisfied: urllib3<3,>=1.21.1 in c:\\users\\mattb\\documents\\github\\reddit_aita_finetuning\\aita-finetuning\\lib\\site-packages (from requests<3,>=2.21.0->tensorflow-intel==2.16.1->tensorflow->BLEURT==0.0.2) (2.2.1)\n",
            "Requirement already satisfied: certifi>=2017.4.17 in c:\\users\\mattb\\documents\\github\\reddit_aita_finetuning\\aita-finetuning\\lib\\site-packages (from requests<3,>=2.21.0->tensorflow-intel==2.16.1->tensorflow->BLEURT==0.0.2) (2024.2.2)\n",
            "Requirement already satisfied: markdown>=2.6.8 in c:\\users\\mattb\\documents\\github\\reddit_aita_finetuning\\aita-finetuning\\lib\\site-packages (from tensorboard<2.17,>=2.16->tensorflow-intel==2.16.1->tensorflow->BLEURT==0.0.2) (3.6)\n",
            "Requirement already satisfied: tensorboard-data-server<0.8.0,>=0.7.0 in c:\\users\\mattb\\documents\\github\\reddit_aita_finetuning\\aita-finetuning\\lib\\site-packages (from tensorboard<2.17,>=2.16->tensorflow-intel==2.16.1->tensorflow->BLEURT==0.0.2) (0.7.2)\n",
            "Requirement already satisfied: werkzeug>=1.0.1 in c:\\users\\mattb\\documents\\github\\reddit_aita_finetuning\\aita-finetuning\\lib\\site-packages (from tensorboard<2.17,>=2.16->tensorflow-intel==2.16.1->tensorflow->BLEURT==0.0.2) (3.0.1)\n",
            "Requirement already satisfied: MarkupSafe>=2.1.1 in c:\\users\\mattb\\documents\\github\\reddit_aita_finetuning\\aita-finetuning\\lib\\site-packages (from werkzeug>=1.0.1->tensorboard<2.17,>=2.16->tensorflow-intel==2.16.1->tensorflow->BLEURT==0.0.2) (2.1.5)\n",
            "Requirement already satisfied: markdown-it-py>=2.2.0 in c:\\users\\mattb\\documents\\github\\reddit_aita_finetuning\\aita-finetuning\\lib\\site-packages (from rich->keras>=3.0.0->tensorflow-intel==2.16.1->tensorflow->BLEURT==0.0.2) (3.0.0)\n",
            "Requirement already satisfied: pygments<3.0.0,>=2.13.0 in c:\\users\\mattb\\documents\\github\\reddit_aita_finetuning\\aita-finetuning\\lib\\site-packages (from rich->keras>=3.0.0->tensorflow-intel==2.16.1->tensorflow->BLEURT==0.0.2) (2.17.2)\n",
            "Requirement already satisfied: mdurl~=0.1 in c:\\users\\mattb\\documents\\github\\reddit_aita_finetuning\\aita-finetuning\\lib\\site-packages (from markdown-it-py>=2.2.0->rich->keras>=3.0.0->tensorflow-intel==2.16.1->tensorflow->BLEURT==0.0.2) (0.1.2)\n",
            "Installing collected packages: BLEURT\n",
            "  Attempting uninstall: BLEURT\n",
            "    Found existing installation: BLEURT 0.0.2\n",
            "    Uninstalling BLEURT-0.0.2:\n",
            "      Successfully uninstalled BLEURT-0.0.2\n",
            "  Running setup.py develop for BLEURT\n",
            "Successfully installed BLEURT-0.0.2\n"
          ]
        }
      ],
      "source": [
        "!pip install -e ."
      ]
    },
    {
      "cell_type": "code",
      "execution_count": 6,
      "metadata": {
        "colab": {
          "base_uri": "https://localhost:8080/"
        },
        "id": "WpMjUxL2sgGs",
        "outputId": "0590a94f-8e50-47a6-ce84-1970bc3512ea"
      },
      "outputs": [
        {
          "name": "stderr",
          "output_type": "stream",
          "text": [
            "'wget' is not recognized as an internal or external command,\n",
            "operable program or batch file.\n",
            "'unzip' is not recognized as an internal or external command,\n",
            "operable program or batch file.\n"
          ]
        }
      ],
      "source": [
        "# Downloads the BLEURT-base checkpoint.\n",
        "!wget https://storage.googleapis.com/bleurt-oss-21/BLEURT-20.zip .\n",
        "!unzip BLEURT-20.zip"
      ]
    },
    {
      "cell_type": "code",
      "execution_count": null,
      "metadata": {
        "colab": {
          "base_uri": "https://localhost:8080/"
        },
        "id": "XhG9Uez2-LMY",
        "outputId": "4e094ad2-f073-4542-b792-6e5bb5148c6f"
      },
      "outputs": [],
      "source": [
        "%cd .."
      ]
    },
    {
      "cell_type": "code",
      "execution_count": null,
      "metadata": {
        "id": "zPhxrsJF9XLs"
      },
      "outputs": [],
      "source": [
        "import json\n",
        "\n",
        "with open('flan-t5-xl-reddit-AITA-binary-predictions.json', 'r') as file:\n",
        "    test_results = json.load(file)\n",
        "\n",
        "candidates = test_results['prediction_texts']\n",
        "references = test_results['reference_texts']"
      ]
    },
    {
      "cell_type": "code",
      "execution_count": null,
      "metadata": {
        "id": "mh4xDvaq97m_"
      },
      "outputs": [],
      "source": [
        "# Open a file to write\n",
        "with open('flanT5_small_evaluation/test_result_pairs.jsonl', 'w') as file:\n",
        "    # Iterate over the zipped lists\n",
        "    for ref, cand in zip(references, candidates):\n",
        "        # Create a dictionary with the specified keys and values\n",
        "        json_object = {'reference': ref, 'candidate': cand}\n",
        "        # Convert the dictionary to a JSON string\n",
        "        json_str = json.dumps(json_object)\n",
        "        # Write the JSON string to the file with a newline\n",
        "        file.write(json_str + '\\n')"
      ]
    },
    {
      "cell_type": "code",
      "execution_count": null,
      "metadata": {
        "colab": {
          "base_uri": "https://localhost:8080/",
          "height": 36
        },
        "id": "61NF_TG-Acsg",
        "outputId": "82433ee4-7e5c-45f0-945f-ebb0a73240f3"
      },
      "outputs": [],
      "source": [
        "import shutil\n",
        "source_path = '/content/drive/MyDrive/WCU_THESIS/AITA_Evaluation/flanT5_small_evaluation/test_result_pairs.jsonl'\n",
        "destination_path = '/content/drive/MyDrive/WCU_THESIS/AITA_Evaluation/bleurt/test_result_pairs.jsonl'\n",
        "shutil.copy2(source_path, destination_path)"
      ]
    },
    {
      "cell_type": "code",
      "execution_count": null,
      "metadata": {
        "colab": {
          "base_uri": "https://localhost:8080/"
        },
        "id": "WkyIDUyA-WHQ",
        "outputId": "996b4e18-e536-4a92-e84d-af5b60682045"
      },
      "outputs": [],
      "source": [
        "%cd /content/drive/MyDrive/WCU_THESIS/AITA_Evaluation/bleurt"
      ]
    },
    {
      "cell_type": "code",
      "execution_count": null,
      "metadata": {
        "id": "n0Mo-DAZBe9q"
      },
      "outputs": [],
      "source": [
        "import json\n",
        "\n",
        "# Path to your JSONL file\n",
        "\n",
        "# Create an empty list to store the data\n",
        "test_result_pairs = []\n",
        "\n",
        "# Open the file and read line by line\n",
        "with open('test_result_pairs.jsonl', 'r') as file:\n",
        "    for line in file:\n",
        "        # Parse each line as a JSON object and add to the list\n",
        "        test_result_pairs.append(json.loads(line))\n"
      ]
    },
    {
      "cell_type": "code",
      "execution_count": null,
      "metadata": {
        "id": "kDWGi3BvINJe"
      },
      "outputs": [],
      "source": [
        "# create flan_t5_small_scores.txt\n",
        "!touch flan_t5_small_scores.txt"
      ]
    },
    {
      "cell_type": "code",
      "execution_count": null,
      "metadata": {
        "colab": {
          "base_uri": "https://localhost:8080/"
        },
        "id": "qU_pwOZSsvIE",
        "outputId": "e13c8f25-ddd3-4209-ccb1-d477b1d3adb7"
      },
      "outputs": [],
      "source": [
        "!python -m bleurt.score_files \\\n",
        "  -sentence_pairs_file=test_result_pairs.jsonl \\\n",
        "  -bleurt_checkpoint=BLEURT-20 \\\n",
        "  -scores_file=flan_t5_small_scores.txt"
      ]
    },
    {
      "cell_type": "code",
      "execution_count": null,
      "metadata": {
        "id": "U5Fu7pbWuBs1"
      },
      "outputs": [],
      "source": []
    }
  ],
  "metadata": {
    "accelerator": "GPU",
    "colab": {
      "gpuType": "A100",
      "machine_shape": "hm",
      "provenance": []
    },
    "kernelspec": {
      "display_name": "Python 3",
      "name": "python3"
    },
    "language_info": {
      "codemirror_mode": {
        "name": "ipython",
        "version": 3
      },
      "file_extension": ".py",
      "mimetype": "text/x-python",
      "name": "python",
      "nbconvert_exporter": "python",
      "pygments_lexer": "ipython3",
      "version": "3.11.8"
    }
  },
  "nbformat": 4,
  "nbformat_minor": 0
}
