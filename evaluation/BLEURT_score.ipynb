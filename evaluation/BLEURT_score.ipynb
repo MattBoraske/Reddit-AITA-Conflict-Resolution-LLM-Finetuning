{
  "nbformat": 4,
  "nbformat_minor": 0,
  "metadata": {
    "colab": {
      "provenance": [],
      "machine_shape": "hm",
      "gpuType": "A100"
    },
    "kernelspec": {
      "name": "python3",
      "display_name": "Python 3"
    },
    "language_info": {
      "name": "python"
    },
    "accelerator": "GPU"
  },
  "cells": [
    {
      "cell_type": "code",
      "source": [
        "%pip install transformers accelerate torch evaluate datasets peft bitsandbytes"
      ],
      "metadata": {
        "id": "_DJdylFg7f3H"
      },
      "execution_count": null,
      "outputs": []
    },
    {
      "cell_type": "markdown",
      "source": [
        "# BLEURT score\n",
        "- [Link to Repo](https://github.com/google-research/bleurt/blob/master/checkpoints.md)\n",
        "- [HF Eval Page](https://huggingface.co/spaces/evaluate-metric/bleurt)"
      ],
      "metadata": {
        "id": "dUOw2Xv5o6yB"
      }
    },
    {
      "cell_type": "code",
      "source": [
        "# mount gdrive to save results\n",
        "from google.colab import drive\n",
        "\n",
        "drive.mount('/content/drive', force_remount=True)"
      ],
      "metadata": {
        "colab": {
          "base_uri": "https://localhost:8080/"
        },
        "id": "cfKUQj72pcX2",
        "outputId": "36cf85fc-7342-47b4-ce0a-d5a2e61e1d3a"
      },
      "execution_count": null,
      "outputs": [
        {
          "output_type": "stream",
          "name": "stdout",
          "text": [
            "Mounted at /content/drive\n"
          ]
        }
      ]
    },
    {
      "cell_type": "code",
      "source": [
        "%cd /content/drive/MyDrive/WCU_THESIS/AITA_Evaluation"
      ],
      "metadata": {
        "colab": {
          "base_uri": "https://localhost:8080/"
        },
        "id": "La3w20y0pbIB",
        "outputId": "e3f181a7-bd43-497d-d35a-7cf89fb44739"
      },
      "execution_count": null,
      "outputs": [
        {
          "output_type": "stream",
          "name": "stdout",
          "text": [
            "/content/drive/MyDrive/WCU_THESIS/AITA_Evaluation\n"
          ]
        }
      ]
    },
    {
      "cell_type": "code",
      "source": [
        "!pip install --upgrade pip  # ensures that pip is current\n",
        "!git clone https://github.com/google-research/bleurt.git\n",
        "%cd /content/drive/MyDrive/WCU_THESIS/AITA_Evaluation/bleurt\n",
        "!pip install -e ."
      ],
      "metadata": {
        "id": "pW4A_k0Yppt9"
      },
      "execution_count": null,
      "outputs": []
    },
    {
      "cell_type": "code",
      "source": [
        "# Downloads the BLEURT-base checkpoint.\n",
        "!wget https://storage.googleapis.com/bleurt-oss-21/BLEURT-20.zip .\n",
        "!unzip BLEURT-20.zip"
      ],
      "metadata": {
        "colab": {
          "base_uri": "https://localhost:8080/"
        },
        "id": "WpMjUxL2sgGs",
        "outputId": "0590a94f-8e50-47a6-ce84-1970bc3512ea"
      },
      "execution_count": null,
      "outputs": [
        {
          "output_type": "stream",
          "name": "stdout",
          "text": [
            "--2024-03-19 17:12:26--  https://storage.googleapis.com/bleurt-oss-21/BLEURT-20.zip\n",
            "Resolving storage.googleapis.com (storage.googleapis.com)... 172.253.118.207, 74.125.200.207, 74.125.130.207, ...\n",
            "Connecting to storage.googleapis.com (storage.googleapis.com)|172.253.118.207|:443... connected.\n",
            "HTTP request sent, awaiting response... 200 OK\n",
            "Length: 2140294207 (2.0G) [application/octet-stream]\n",
            "Saving to: ‘BLEURT-20.zip’\n",
            "\n",
            "BLEURT-20.zip       100%[===================>]   1.99G  23.0MB/s    in 94s     \n",
            "\n",
            "2024-03-19 17:14:00 (21.8 MB/s) - ‘BLEURT-20.zip’ saved [2140294207/2140294207]\n",
            "\n",
            "--2024-03-19 17:14:00--  http://./\n",
            "Resolving . (.)... failed: No address associated with hostname.\n",
            "wget: unable to resolve host address ‘.’\n",
            "FINISHED --2024-03-19 17:14:00--\n",
            "Total wall clock time: 1m 34s\n",
            "Downloaded: 1 files, 2.0G in 1m 34s (21.8 MB/s)\n",
            "Archive:  BLEURT-20.zip\n",
            "   creating: BLEURT-20/\n",
            "  inflating: BLEURT-20/bert_config.json  \n",
            "  inflating: BLEURT-20/saved_model.pb  \n",
            "   creating: BLEURT-20/variables/\n",
            "  inflating: BLEURT-20/variables/variables.index  \n",
            "  inflating: BLEURT-20/variables/variables.data-00000-of-00001  \n",
            "  inflating: BLEURT-20/sent_piece.vocab  \n",
            "  inflating: BLEURT-20/bleurt_config.json  \n",
            "  inflating: BLEURT-20/sent_piece.model  \n"
          ]
        }
      ]
    },
    {
      "cell_type": "code",
      "source": [
        "%cd .."
      ],
      "metadata": {
        "colab": {
          "base_uri": "https://localhost:8080/"
        },
        "id": "XhG9Uez2-LMY",
        "outputId": "4e094ad2-f073-4542-b792-6e5bb5148c6f"
      },
      "execution_count": null,
      "outputs": [
        {
          "output_type": "stream",
          "name": "stdout",
          "text": [
            "/content/drive/MyDrive/WCU_THESIS/AITA_Evaluation\n"
          ]
        }
      ]
    },
    {
      "cell_type": "code",
      "source": [
        "import json\n",
        "\n",
        "with open('flanT5_small_evaluation/test_results.json', 'r') as file:\n",
        "    test_results = json.load(file)\n",
        "\n",
        "candidates = test_results['predictions']\n",
        "references = test_results['reference_texts']"
      ],
      "metadata": {
        "id": "zPhxrsJF9XLs"
      },
      "execution_count": null,
      "outputs": []
    },
    {
      "cell_type": "code",
      "source": [
        "# Open a file to write\n",
        "with open('flanT5_small_evaluation/test_result_pairs.jsonl', 'w') as file:\n",
        "    # Iterate over the zipped lists\n",
        "    for ref, cand in zip(references, candidates):\n",
        "        # Create a dictionary with the specified keys and values\n",
        "        json_object = {'reference': ref, 'candidate': cand}\n",
        "        # Convert the dictionary to a JSON string\n",
        "        json_str = json.dumps(json_object)\n",
        "        # Write the JSON string to the file with a newline\n",
        "        file.write(json_str + '\\n')"
      ],
      "metadata": {
        "id": "mh4xDvaq97m_"
      },
      "execution_count": null,
      "outputs": []
    },
    {
      "cell_type": "code",
      "source": [
        "import shutil\n",
        "source_path = '/content/drive/MyDrive/WCU_THESIS/AITA_Evaluation/flanT5_small_evaluation/test_result_pairs.jsonl'\n",
        "destination_path = '/content/drive/MyDrive/WCU_THESIS/AITA_Evaluation/bleurt/test_result_pairs.jsonl'\n",
        "shutil.copy2(source_path, destination_path)"
      ],
      "metadata": {
        "colab": {
          "base_uri": "https://localhost:8080/",
          "height": 36
        },
        "id": "61NF_TG-Acsg",
        "outputId": "82433ee4-7e5c-45f0-945f-ebb0a73240f3"
      },
      "execution_count": null,
      "outputs": [
        {
          "output_type": "execute_result",
          "data": {
            "text/plain": [
              "'/content/drive/MyDrive/WCU_THESIS/AITA_Evaluation/bleurt/test_result_pairs.jsonl'"
            ],
            "application/vnd.google.colaboratory.intrinsic+json": {
              "type": "string"
            }
          },
          "metadata": {},
          "execution_count": 64
        }
      ]
    },
    {
      "cell_type": "code",
      "source": [
        "%cd /content/drive/MyDrive/WCU_THESIS/AITA_Evaluation/bleurt"
      ],
      "metadata": {
        "colab": {
          "base_uri": "https://localhost:8080/"
        },
        "id": "WkyIDUyA-WHQ",
        "outputId": "996b4e18-e536-4a92-e84d-af5b60682045"
      },
      "execution_count": null,
      "outputs": [
        {
          "output_type": "stream",
          "name": "stdout",
          "text": [
            "/content/drive/MyDrive/WCU_THESIS/AITA_Evaluation/bleurt\n"
          ]
        }
      ]
    },
    {
      "cell_type": "code",
      "source": [
        "import json\n",
        "\n",
        "# Path to your JSONL file\n",
        "\n",
        "# Create an empty list to store the data\n",
        "test_result_pairs = []\n",
        "\n",
        "# Open the file and read line by line\n",
        "with open('test_result_pairs.jsonl', 'r') as file:\n",
        "    for line in file:\n",
        "        # Parse each line as a JSON object and add to the list\n",
        "        test_result_pairs.append(json.loads(line))\n"
      ],
      "metadata": {
        "id": "n0Mo-DAZBe9q"
      },
      "execution_count": null,
      "outputs": []
    },
    {
      "cell_type": "code",
      "source": [
        "# create flan_t5_small_scores.txt\n",
        "!touch flan_t5_small_scores.txt"
      ],
      "metadata": {
        "id": "kDWGi3BvINJe"
      },
      "execution_count": null,
      "outputs": []
    },
    {
      "cell_type": "code",
      "source": [
        "!python -m bleurt.score_files \\\n",
        "  -sentence_pairs_file=test_result_pairs.jsonl \\\n",
        "  -bleurt_checkpoint=BLEURT-20 \\\n",
        "  -scores_file=flan_t5_small_scores.txt"
      ],
      "metadata": {
        "colab": {
          "base_uri": "https://localhost:8080/"
        },
        "id": "qU_pwOZSsvIE",
        "outputId": "e13c8f25-ddd3-4209-ccb1-d477b1d3adb7"
      },
      "execution_count": null,
      "outputs": [
        {
          "output_type": "stream",
          "name": "stdout",
          "text": [
            "2024-03-19 19:12:52.549767: I tensorflow/core/util/port.cc:113] oneDNN custom operations are on. You may see slightly different numerical results due to floating-point round-off errors from different computation orders. To turn them off, set the environment variable `TF_ENABLE_ONEDNN_OPTS=0`.\n",
            "2024-03-19 19:12:52.601594: E external/local_xla/xla/stream_executor/cuda/cuda_dnn.cc:9261] Unable to register cuDNN factory: Attempting to register factory for plugin cuDNN when one has already been registered\n",
            "2024-03-19 19:12:52.601646: E external/local_xla/xla/stream_executor/cuda/cuda_fft.cc:607] Unable to register cuFFT factory: Attempting to register factory for plugin cuFFT when one has already been registered\n",
            "2024-03-19 19:12:52.603332: E external/local_xla/xla/stream_executor/cuda/cuda_blas.cc:1515] Unable to register cuBLAS factory: Attempting to register factory for plugin cuBLAS when one has already been registered\n",
            "2024-03-19 19:12:52.611706: I tensorflow/core/platform/cpu_feature_guard.cc:182] This TensorFlow binary is optimized to use available CPU instructions in performance-critical operations.\n",
            "To enable the following instructions: AVX2 AVX512F AVX512_VNNI FMA, in other operations, rebuild TensorFlow with the appropriate compiler flags.\n",
            "2024-03-19 19:12:53.646454: W tensorflow/compiler/tf2tensorrt/utils/py_utils.cc:38] TF-TRT Warning: Could not find TensorRT\n",
            "INFO:tensorflow:Running BLEURT scoring.\n",
            "I0319 19:12:55.316167 137555321049728 score_files.py:168] Running BLEURT scoring.\n",
            "INFO:tensorflow:Reading checkpoint BLEURT-20.\n",
            "I0319 19:12:55.316415 137555321049728 score.py:160] Reading checkpoint BLEURT-20.\n",
            "INFO:tensorflow:Config file found, reading.\n",
            "I0319 19:12:55.316953 137555321049728 checkpoint.py:91] Config file found, reading.\n",
            "INFO:tensorflow:Will load checkpoint BLEURT-20\n",
            "I0319 19:12:55.318531 137555321049728 checkpoint.py:95] Will load checkpoint BLEURT-20\n",
            "INFO:tensorflow:Loads full paths and checks that files exists.\n",
            "I0319 19:12:55.318627 137555321049728 checkpoint.py:97] Loads full paths and checks that files exists.\n",
            "INFO:tensorflow:... name:BLEURT-20\n",
            "I0319 19:12:55.318682 137555321049728 checkpoint.py:101] ... name:BLEURT-20\n",
            "INFO:tensorflow:... bert_config_file:bert_config.json\n",
            "I0319 19:12:55.318733 137555321049728 checkpoint.py:101] ... bert_config_file:bert_config.json\n",
            "INFO:tensorflow:... max_seq_length:512\n",
            "I0319 19:12:55.319073 137555321049728 checkpoint.py:101] ... max_seq_length:512\n",
            "INFO:tensorflow:... vocab_file:None\n",
            "I0319 19:12:55.319140 137555321049728 checkpoint.py:101] ... vocab_file:None\n",
            "INFO:tensorflow:... do_lower_case:None\n",
            "I0319 19:12:55.319185 137555321049728 checkpoint.py:101] ... do_lower_case:None\n",
            "INFO:tensorflow:... sp_model:sent_piece\n",
            "I0319 19:12:55.319227 137555321049728 checkpoint.py:101] ... sp_model:sent_piece\n",
            "INFO:tensorflow:... dynamic_seq_length:True\n",
            "I0319 19:12:55.319441 137555321049728 checkpoint.py:101] ... dynamic_seq_length:True\n",
            "INFO:tensorflow:Creating BLEURT scorer.\n",
            "I0319 19:12:55.319504 137555321049728 score.py:167] Creating BLEURT scorer.\n",
            "INFO:tensorflow:Creating SentencePiece tokenizer.\n",
            "I0319 19:12:55.319560 137555321049728 tokenizers.py:79] Creating SentencePiece tokenizer.\n",
            "INFO:tensorflow:Creating SentencePiece tokenizer.\n",
            "I0319 19:12:55.319607 137555321049728 tokenizers.py:58] Creating SentencePiece tokenizer.\n",
            "INFO:tensorflow:Will load model: BLEURT-20/sent_piece.model.\n",
            "I0319 19:12:55.319650 137555321049728 tokenizers.py:60] Will load model: BLEURT-20/sent_piece.model.\n",
            "INFO:tensorflow:SentencePiece tokenizer created.\n",
            "I0319 19:12:55.878138 137555321049728 tokenizers.py:64] SentencePiece tokenizer created.\n",
            "INFO:tensorflow:Creating Eager Mode predictor.\n",
            "I0319 19:12:55.878358 137555321049728 score.py:56] Creating Eager Mode predictor.\n",
            "INFO:tensorflow:Loading model.\n",
            "I0319 19:12:55.878422 137555321049728 score.py:61] Loading model.\n",
            "2024-03-19 19:12:57.130307: W tensorflow/core/common_runtime/gpu/gpu_bfc_allocator.cc:47] Overriding orig_value setting because the TF_FORCE_GPU_ALLOW_GROWTH environment variable is set. Original config value was 0.\n",
            "2024-03-19 19:12:57.130483: I tensorflow/core/common_runtime/gpu/gpu_device.cc:1929] Created device /job:localhost/replica:0/task:0/device:GPU:0 with 38554 MB memory:  -> device: 0, name: NVIDIA A100-SXM4-40GB, pci bus id: 0000:00:04.0, compute capability: 8.0\n",
            "I0319 19:13:05.897199 137555321049728 load.py:1084] Fingerprint not found. Saved model loading will continue.\n",
            "I0319 19:13:05.897404 137555321049728 load.py:1103] path_and_singleprint metric could not be logged. Saved model loading will continue.\n",
            "INFO:tensorflow:BLEURT initialized.\n",
            "I0319 19:13:05.942739 137555321049728 score.py:173] BLEURT initialized.\n",
            "INFO:tensorflow:Computing BLEURT scores...\n",
            "I0319 19:13:05.942943 137555321049728 score_files.py:132] Computing BLEURT scores...\n",
            "INFO:tensorflow:BLEURT scores computed.\n",
            "I0319 19:20:22.843127 137555321049728 score_files.py:140] BLEURT scores computed.\n",
            "INFO:tensorflow:Writing to disk.\n",
            "I0319 19:20:22.843345 137555321049728 score_files.py:143] Writing to disk.\n",
            "INFO:tensorflow:Done.\n",
            "I0319 19:20:22.896390 137555321049728 score_files.py:150] Done.\n"
          ]
        }
      ]
    },
    {
      "cell_type": "code",
      "source": [],
      "metadata": {
        "id": "U5Fu7pbWuBs1"
      },
      "execution_count": null,
      "outputs": []
    }
  ]
}