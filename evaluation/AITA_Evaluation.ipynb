{
 "cells": [
  {
   "cell_type": "markdown",
   "metadata": {},
   "source": [
    "# Reddit AITA Finetuned Model Evaluation"
   ]
  },
  {
   "cell_type": "markdown",
   "metadata": {},
   "source": [
    "## Prepare environment"
   ]
  },
  {
   "cell_type": "code",
   "execution_count": null,
   "metadata": {},
   "outputs": [],
   "source": [
    "%pip install transformers accelerate datasets evaluate rouge_score unbabel-comet"
   ]
  },
  {
   "cell_type": "code",
   "execution_count": 2,
   "metadata": {},
   "outputs": [],
   "source": [
    "from datasets import load_dataset\n",
    "from transformers import AutoModelForSeq2SeqLM, AutoModelForCausalLM, AutoTokenizer\n",
    "import torch\n",
    "from model_evaluator import Model_Evaluator # custom class for evaluating models - see model_evaluator.py"
   ]
  },
  {
   "cell_type": "code",
   "execution_count": null,
   "metadata": {},
   "outputs": [],
   "source": [
    "from huggingface_hub import login\n",
    "login()"
   ]
  },
  {
   "cell_type": "markdown",
   "metadata": {},
   "source": [
    "## Load testing dataset"
   ]
  },
  {
   "cell_type": "code",
   "execution_count": 3,
   "metadata": {},
   "outputs": [],
   "source": [
    "# load dataset and get test partition\n",
    "dataset = load_dataset(\"MattBoraske/reddit-AITA-binary-submissions-and-comments-top-2k\")\n",
    "test_dataset = dataset['test']"
   ]
  },
  {
   "cell_type": "markdown",
   "metadata": {},
   "source": [
    "## Load model and tokenizer"
   ]
  },
  {
   "cell_type": "code",
   "execution_count": 6,
   "metadata": {},
   "outputs": [
    {
     "data": {
      "application/vnd.jupyter.widget-view+json": {
       "model_id": "eb858742f7b9423baa6d69d65ada8496",
       "version_major": 2,
       "version_minor": 0
      },
      "text/plain": [
       "Loading checkpoint shards:   0%|          | 0/2 [00:00<?, ?it/s]"
      ]
     },
     "metadata": {},
     "output_type": "display_data"
    }
   ],
   "source": [
    "# load model and tokenizer\n",
    "\n",
    "hf_repo = \"MattBoraske/flan-t5-xl-reddit-AITA-binary-top-2k\"\n",
    "\n",
    "tokenizer = AutoTokenizer.from_pretrained(hf_repo)\n",
    "\n",
    "if 'flan-t5' in hf_repo:\n",
    "  model = AutoModelForSeq2SeqLM.from_pretrained(\n",
    "    hf_repo,\n",
    "    device_map='auto',\n",
    "    torch_dtype=torch.bfloat16\n",
    "  )\n",
    "\n",
    "elif 'llama-2' in hf_repo:\n",
    "  model = AutoModelForCausalLM.from_pretrained(\n",
    "    hf_repo,\n",
    "    device_map='auto',\n",
    "    torch_dtype=torch.bfloat16\n",
    "  )\n",
    "else:\n",
    "  print('Error with HuggingFace model repository: Is neither flan-t5 or llama-2')"
   ]
  },
  {
   "cell_type": "markdown",
   "metadata": {},
   "source": [
    "## Generate model predictions"
   ]
  },
  {
   "cell_type": "code",
   "execution_count": 8,
   "metadata": {},
   "outputs": [
    {
     "name": "stdout",
     "output_type": "stream",
     "text": [
      "Predicted AITA_classs: NTA\tCorrect AITA_classs: YTA\n",
      "Predicted AITA_classs: NTA\tCorrect AITA_classs: NTA\n",
      "Predicted AITA_classs: YTA\tCorrect AITA_classs: NTA\n",
      "Predicted AITA_classs: YTA\tCorrect AITA_classs: YTA\n",
      "Predicted AITA_classs: NTA\tCorrect AITA_classs: YTA\n",
      "Predicted AITA_classs: NTA\tCorrect AITA_classs: NTA\n",
      "Predicted AITA_classs: YTA\tCorrect AITA_classs: YTA\n",
      "Predicted AITA_classs: NTA\tCorrect AITA_classs: NTA\n",
      "Predicted AITA_classs: NTA\tCorrect AITA_classs: YTA\n",
      "Predicted AITA_classs: NTA\tCorrect AITA_classs: YTA\n"
     ]
    }
   ],
   "source": [
    "# generate model predictions on test dataset\n",
    "\n",
    "output_file = 'flan-t5-xl-reddit-AITA-binary-predictions.json'\n",
    "\n",
    "submission_texts, predictions, references, predicted_classes, correct_classes, ambiguity_scores = Model_Evaluator.get_model_predictions(\n",
    "    model, \n",
    "    tokenizer,\n",
    "    dataset['test'],\n",
    "    output_file\n",
    ")"
   ]
  },
  {
   "cell_type": "markdown",
   "metadata": {},
   "source": [
    "## Evaluate Model Predictions"
   ]
  },
  {
   "cell_type": "code",
   "execution_count": 9,
   "metadata": {},
   "outputs": [],
   "source": [
    "# evaluate model predictions\n",
    "\n",
    "classification_type = 'binary'\n",
    "output_files = [\n",
    "    'classification_report.txt',\n",
    "    ('Flan-T5-XL-Reddit-AITA-Binary-Top-2k Classifications', 'confusion_matrix.png'),\n",
    "    'mcc.json',\n",
    "    'ROGUE_scores.json',\n",
    "    'BLEU_scores.json',\n",
    "    'COMET_scores.json'\n",
    "]\n",
    "\n",
    "Model_Evaluator.evaluate_model(\n",
    "    submission_texts=submission_texts,\n",
    "    predictions=predictions,\n",
    "    references=references,\n",
    "    AITA_classes=predicted_classes,\n",
    "    correct_AITA_classes=correct_classes,\n",
    "    ambiguity_scores=ambiguity_scores,\n",
    "    classification_type=classification_type,\n",
    "    output_files=output_files\n",
    ")"
   ]
  }
 ],
 "metadata": {
  "kernelspec": {
   "display_name": "Python 3",
   "language": "python",
   "name": "python3"
  },
  "language_info": {
   "codemirror_mode": {
    "name": "ipython",
    "version": 3
   },
   "file_extension": ".py",
   "mimetype": "text/x-python",
   "name": "python",
   "nbconvert_exporter": "python",
   "pygments_lexer": "ipython3",
   "version": "3.11.8"
  }
 },
 "nbformat": 4,
 "nbformat_minor": 2
}
