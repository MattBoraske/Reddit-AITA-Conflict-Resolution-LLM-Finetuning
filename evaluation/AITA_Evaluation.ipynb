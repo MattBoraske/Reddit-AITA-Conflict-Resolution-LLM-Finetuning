{
 "cells": [
  {
   "cell_type": "markdown",
   "metadata": {},
   "source": [
    "# Reddit AITA Finetuned Model Evaluation"
   ]
  },
  {
   "cell_type": "markdown",
   "metadata": {},
   "source": [
    "Ensure the following is set before running\n",
    "- Testing dataset (from Huggingface repository)\n",
    "- Model (from HuggingFace repository)\n",
    "- Results directory\n",
    "- Confusion matrix title"
   ]
  },
  {
   "cell_type": "markdown",
   "metadata": {},
   "source": [
    "## Prepare environment"
   ]
  },
  {
   "cell_type": "code",
   "execution_count": null,
   "metadata": {},
   "outputs": [],
   "source": [
    "%pip install transformers accelerate datasets evaluate rouge_score unbabel-comet scikit-learn matplotlib seaborn"
   ]
  },
  {
   "cell_type": "code",
   "execution_count": null,
   "metadata": {},
   "outputs": [],
   "source": [
    "from datasets import load_dataset\n",
    "from transformers import AutoModelForSeq2SeqLM, AutoModelForCausalLM, AutoTokenizer\n",
    "import torch\n",
    "from model_evaluator import Model_Evaluator # custom class for evaluating models - see model_evaluator.py"
   ]
  },
  {
   "cell_type": "code",
   "execution_count": null,
   "metadata": {},
   "outputs": [],
   "source": [
    "from huggingface_hub import login\n",
    "login()"
   ]
  },
  {
   "cell_type": "code",
   "execution_count": null,
   "metadata": {},
   "outputs": [],
   "source": [
    "from google.colab import drive\n",
    "\n",
    "drive.mount('/content/drive', force_remount=True)\n",
    "%cd /content/drive/MyDrive/WCU_THESIS/Evaluation"
   ]
  },
  {
   "cell_type": "markdown",
   "metadata": {},
   "source": [
    "## Load testing dataset"
   ]
  },
  {
   "cell_type": "code",
   "execution_count": null,
   "metadata": {},
   "outputs": [],
   "source": [
    "# load dataset and get test partition\n",
    "dataset = load_dataset(\"MattBoraske/reddit-AITA-submissions-and-comments\")\n",
    "test_dataset = dataset['test']"
   ]
  },
  {
   "cell_type": "markdown",
   "metadata": {},
   "source": [
    "## Load model and tokenizer"
   ]
  },
  {
   "cell_type": "code",
   "execution_count": null,
   "metadata": {},
   "outputs": [],
   "source": [
    "# load model and tokenizer\n",
    "\n",
    "hf_repo = \"MattBoraske/llama-2-7b-chat-reddit-AITA\"\n",
    "\n",
    "tokenizer = AutoTokenizer.from_pretrained(hf_repo)\n",
    "\n",
    "if 'flan-t5' in hf_repo:\n",
    "  model = AutoModelForSeq2SeqLM.from_pretrained(\n",
    "    hf_repo,\n",
    "    device_map='auto',\n",
    "    torch_dtype=torch.bfloat16\n",
    "  )\n",
    "\n",
    "elif 'llama' in hf_repo:\n",
    "  model = AutoModelForCausalLM.from_pretrained(\n",
    "    hf_repo,\n",
    "    device_map='auto',\n",
    "    torch_dtype=torch.bfloat16\n",
    "  )\n",
    "else:\n",
    "  print('Error with HuggingFace model repository: Is neither flan-t5 or llama-2')"
   ]
  },
  {
   "cell_type": "code",
   "execution_count": null,
   "metadata": {},
   "outputs": [],
   "source": [
    "model.config"
   ]
  },
  {
   "cell_type": "code",
   "execution_count": null,
   "metadata": {},
   "outputs": [],
   "source": [
    "model.generation_config"
   ]
  },
  {
   "cell_type": "markdown",
   "metadata": {},
   "source": [
    "## Generate Model Predictions"
   ]
  },
  {
   "cell_type": "code",
   "execution_count": null,
   "metadata": {},
   "outputs": [],
   "source": [
    "results_directory = 'llama2-7b-chat-reddit-AITA-eval-results/' # directory to store eval results"
   ]
  },
  {
   "cell_type": "code",
   "execution_count": null,
   "metadata": {},
   "outputs": [],
   "source": [
    "# generate model predictions on test dataset\n",
    "\n",
    "submission_texts, predictions, references, predicted_classes, correct_classes, ambiguity_scores = Model_Evaluator.get_model_predictions(\n",
    "    model, \n",
    "    tokenizer,\n",
    "    test_dataset,\n",
    "    f'{results_directory}generation_results.json'\n",
    ")"
   ]
  },
  {
   "cell_type": "markdown",
   "metadata": {},
   "source": [
    "## Evaluate Model Predictions"
   ]
  },
  {
   "cell_type": "code",
   "execution_count": null,
   "metadata": {},
   "outputs": [],
   "source": [
    "confusion_matrix_title = 'Llama2-7b-Chat-Reddit-AITA Classifications' # title for confusion matrix made during eval"
   ]
  },
  {
   "cell_type": "code",
   "execution_count": null,
   "metadata": {},
   "outputs": [],
   "source": [
    "# run model evaluation\n",
    "\n",
    "classification_type = 'binary'\n",
    "output_files = [\n",
    "    f'{results_directory}classification_report.txt',\n",
    "    (confusion_matrix_title, f'{results_directory}confusion_matrix.png'),\n",
    "    f'{results_directory}mcc.json',\n",
    "    f'{results_directory}ROGUE_scores.json',\n",
    "    f'{results_directory}BLEU_scores.json',\n",
    "    f'{results_directory}COMET_scores.json'\n",
    "]\n",
    "\n",
    "Model_Evaluator.evaluate_model(\n",
    "    submission_texts=submission_texts,\n",
    "    predictions=predictions,\n",
    "    references=references,\n",
    "    AITA_classes=predicted_classes,\n",
    "    correct_AITA_classes=correct_classes,\n",
    "    ambiguity_scores=ambiguity_scores,\n",
    "    classification_type=classification_type,\n",
    "    output_files=output_files\n",
    ")"
   ]
  }
 ],
 "metadata": {
  "kernelspec": {
   "display_name": "Python 3 (ipykernel)",
   "language": "python",
   "name": "python3"
  },
  "language_info": {
   "codemirror_mode": {
    "name": "ipython",
    "version": 3
   },
   "file_extension": ".py",
   "mimetype": "text/x-python",
   "name": "python",
   "nbconvert_exporter": "python",
   "pygments_lexer": "ipython3",
   "version": "3.11.8"
  }
 },
 "nbformat": 4,
 "nbformat_minor": 4
}
