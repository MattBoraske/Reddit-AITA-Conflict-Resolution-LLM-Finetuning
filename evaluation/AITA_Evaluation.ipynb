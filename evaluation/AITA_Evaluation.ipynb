{
 "cells": [
  {
   "cell_type": "code",
   "execution_count": null,
   "metadata": {},
   "outputs": [],
   "source": [
    "%pip install transformers accelerate bitsnbytes datasets evaluate rouge_score unbabel-comet"
   ]
  },
  {
   "cell_type": "code",
   "execution_count": 1,
   "metadata": {},
   "outputs": [
    {
     "data": {
      "application/vnd.jupyter.widget-view+json": {
       "model_id": "897cd90be1474fbda8f6bcb44b270709",
       "version_major": 2,
       "version_minor": 0
      },
      "text/plain": [
       "VBox(children=(HTML(value='<center> <img\\nsrc=https://huggingface.co/front/assets/huggingface_logo-noborder.sv…"
      ]
     },
     "metadata": {},
     "output_type": "display_data"
    }
   ],
   "source": [
    "from huggingface_hub import login\n",
    "login()"
   ]
  },
  {
   "cell_type": "code",
   "execution_count": 2,
   "metadata": {},
   "outputs": [],
   "source": [
    "from datasets import load_dataset\n",
    "from transformers import AutoModelForSeq2SeqLM, AutoModelForCausalLM, AutoTokenizer, BitsAndBytesConfig\n",
    "import torch"
   ]
  },
  {
   "cell_type": "code",
   "execution_count": 3,
   "metadata": {},
   "outputs": [],
   "source": [
    "dataset = load_dataset(\"MattBoraske/reddit-AITA-binary-submissions-and-comments-top-2k\")"
   ]
  },
  {
   "cell_type": "code",
   "execution_count": 4,
   "metadata": {},
   "outputs": [],
   "source": [
    "hf_repo = \"MattBoraske/flan-t5-xl-reddit-AITA-binary-top-2k\""
   ]
  },
  {
   "cell_type": "code",
   "execution_count": 5,
   "metadata": {},
   "outputs": [],
   "source": [
    "bnb_config = BitsAndBytesConfig(\n",
    "  load_in_4bit=True,\n",
    "  bnb_4bit_quant_type='nf4',\n",
    "  bnb_4bit_compute_dtype='float16',\n",
    "  bnb_4bit_use_double_quant=False,\n",
    ")"
   ]
  },
  {
   "cell_type": "code",
   "execution_count": 6,
   "metadata": {},
   "outputs": [
    {
     "data": {
      "application/vnd.jupyter.widget-view+json": {
       "model_id": "eb858742f7b9423baa6d69d65ada8496",
       "version_major": 2,
       "version_minor": 0
      },
      "text/plain": [
       "Loading checkpoint shards:   0%|          | 0/2 [00:00<?, ?it/s]"
      ]
     },
     "metadata": {},
     "output_type": "display_data"
    }
   ],
   "source": [
    "tokenizer = AutoTokenizer.from_pretrained(hf_repo)\n",
    "model = AutoModelForSeq2SeqLM.from_pretrained(\n",
    "  hf_repo,\n",
    "  device_map='auto',\n",
    "  quantization_config=bnb_config,\n",
    "  torch_dtype=torch.bfloat16\n",
    ")"
   ]
  },
  {
   "cell_type": "code",
   "execution_count": 7,
   "metadata": {},
   "outputs": [],
   "source": [
    "from model_evaluator import Model_Evaluator"
   ]
  },
  {
   "cell_type": "code",
   "execution_count": 8,
   "metadata": {},
   "outputs": [
    {
     "name": "stdout",
     "output_type": "stream",
     "text": [
      "Predicted AITA_classs: NTA\tCorrect AITA_classs: YTA\n",
      "Predicted AITA_classs: NTA\tCorrect AITA_classs: NTA\n",
      "Predicted AITA_classs: YTA\tCorrect AITA_classs: NTA\n",
      "Predicted AITA_classs: YTA\tCorrect AITA_classs: YTA\n",
      "Predicted AITA_classs: NTA\tCorrect AITA_classs: YTA\n",
      "Predicted AITA_classs: NTA\tCorrect AITA_classs: NTA\n",
      "Predicted AITA_classs: YTA\tCorrect AITA_classs: YTA\n",
      "Predicted AITA_classs: NTA\tCorrect AITA_classs: NTA\n",
      "Predicted AITA_classs: NTA\tCorrect AITA_classs: YTA\n",
      "Predicted AITA_classs: NTA\tCorrect AITA_classs: YTA\n"
     ]
    }
   ],
   "source": [
    "output_file = 'flan-t5-xl-reddit-AITA-binary-predictions.json'\n",
    "submission_texts, predictions, references, predicted_classes, correct_classes, ambiguity_scores = Model_Evaluator.get_model_predictions(\n",
    "    model, \n",
    "    tokenizer,\n",
    "    dataset['test'].select(range(10)),\n",
    "    output_file\n",
    ")"
   ]
  },
  {
   "cell_type": "code",
   "execution_count": 9,
   "metadata": {},
   "outputs": [],
   "source": [
    "classification_type = 'binary'\n",
    "output_files = [\n",
    "    'classification_report.json',\n",
    "    ('Flan-T5-XL-Reddit-AITA-Binary-Top-2k Classifications', 'confusion_matrix.png'),\n",
    "    'mcc.json',\n",
    "    'ROGUE_scores.json',\n",
    "    'BLEU_scores.json',\n",
    "    'COMET_scores.json'\n",
    "]"
   ]
  },
  {
   "cell_type": "code",
   "execution_count": 10,
   "metadata": {},
   "outputs": [
    {
     "name": "stdout",
     "output_type": "stream",
     "text": [
      "Predictions with no AITA class: 0\n",
      "Classification report written to classification_report.json\n",
      "Confusion matrix plot written to confusion_matrix.png\n",
      "Matthews correlation coefficient written to mcc.json\n"
     ]
    },
    {
     "data": {
      "application/vnd.jupyter.widget-view+json": {
       "model_id": "56835a8396c94811ae6dcd5cae5e3f72",
       "version_major": 2,
       "version_minor": 0
      },
      "text/plain": [
       "Fetching 5 files:   0%|          | 0/5 [00:00<?, ?it/s]"
      ]
     },
     "metadata": {},
     "output_type": "display_data"
    },
    {
     "data": {
      "application/vnd.jupyter.widget-view+json": {
       "model_id": "59c66b572e254bdda33a95012ecff650",
       "version_major": 2,
       "version_minor": 0
      },
      "text/plain": [
       "LICENSE:   0%|          | 0.00/9.69k [00:00<?, ?B/s]"
      ]
     },
     "metadata": {},
     "output_type": "display_data"
    },
    {
     "name": "stderr",
     "output_type": "stream",
     "text": [
      "c:\\Users\\mattb\\Documents\\GitHub\\Reddit_AITA_Finetuning\\aita-finetuning\\Lib\\site-packages\\huggingface_hub\\file_download.py:148: UserWarning: `huggingface_hub` cache-system uses symlinks by default to efficiently store duplicated files but your machine does not support them in C:\\Users\\mattb\\.cache\\huggingface\\hub\\models--Unbabel--wmt22-comet-da. Caching files will still work but in a degraded version that might require more space on your disk. This warning can be disabled by setting the `HF_HUB_DISABLE_SYMLINKS_WARNING` environment variable. For more details, see https://huggingface.co/docs/huggingface_hub/how-to-cache#limitations.\n",
      "To support symlinks on Windows, you either need to activate Developer Mode or to run Python as an administrator. In order to see activate developer mode, see this article: https://docs.microsoft.com/en-us/windows/apps/get-started/enable-your-device-for-development\n",
      "  warnings.warn(message)\n"
     ]
    },
    {
     "data": {
      "application/vnd.jupyter.widget-view+json": {
       "model_id": "240cdf57b89d428394eff694a3982def",
       "version_major": 2,
       "version_minor": 0
      },
      "text/plain": [
       ".gitattributes:   0%|          | 0.00/1.48k [00:00<?, ?B/s]"
      ]
     },
     "metadata": {},
     "output_type": "display_data"
    },
    {
     "data": {
      "application/vnd.jupyter.widget-view+json": {
       "model_id": "7348c6a23fd84805899daa38cfbca85b",
       "version_major": 2,
       "version_minor": 0
      },
      "text/plain": [
       "hparams.yaml:   0%|          | 0.00/567 [00:00<?, ?B/s]"
      ]
     },
     "metadata": {},
     "output_type": "display_data"
    },
    {
     "data": {
      "application/vnd.jupyter.widget-view+json": {
       "model_id": "bc2b3fe6a8764309bad10f42e56115e6",
       "version_major": 2,
       "version_minor": 0
      },
      "text/plain": [
       "README.md:   0%|          | 0.00/3.53k [00:00<?, ?B/s]"
      ]
     },
     "metadata": {},
     "output_type": "display_data"
    },
    {
     "data": {
      "application/vnd.jupyter.widget-view+json": {
       "model_id": "5ec5c28cd7dc46cba10af57a767b3eea",
       "version_major": 2,
       "version_minor": 0
      },
      "text/plain": [
       "checkpoints/model.ckpt:   0%|          | 0.00/2.32G [00:00<?, ?B/s]"
      ]
     },
     "metadata": {},
     "output_type": "display_data"
    },
    {
     "name": "stderr",
     "output_type": "stream",
     "text": [
      "INFO:pytorch_lightning.utilities.migration.utils:Lightning automatically upgraded your loaded checkpoint from v1.8.3.post1 to v2.2.1. To apply the upgrade to your files permanently, run `python -m pytorch_lightning.utilities.upgrade_checkpoint C:\\Users\\mattb\\.cache\\huggingface\\hub\\models--Unbabel--wmt22-comet-da\\snapshots\\371e9839ca4e213dde891b066cf3080f75ec7e72\\checkpoints\\model.ckpt`\n"
     ]
    },
    {
     "data": {
      "application/vnd.jupyter.widget-view+json": {
       "model_id": "6ca5768bda94440093020aa534826a9d",
       "version_major": 2,
       "version_minor": 0
      },
      "text/plain": [
       "tokenizer_config.json:   0%|          | 0.00/25.0 [00:00<?, ?B/s]"
      ]
     },
     "metadata": {},
     "output_type": "display_data"
    },
    {
     "name": "stderr",
     "output_type": "stream",
     "text": [
      "c:\\Users\\mattb\\Documents\\GitHub\\Reddit_AITA_Finetuning\\aita-finetuning\\Lib\\site-packages\\huggingface_hub\\file_download.py:148: UserWarning: `huggingface_hub` cache-system uses symlinks by default to efficiently store duplicated files but your machine does not support them in C:\\Users\\mattb\\.cache\\huggingface\\hub\\models--xlm-roberta-large. Caching files will still work but in a degraded version that might require more space on your disk. This warning can be disabled by setting the `HF_HUB_DISABLE_SYMLINKS_WARNING` environment variable. For more details, see https://huggingface.co/docs/huggingface_hub/how-to-cache#limitations.\n",
      "To support symlinks on Windows, you either need to activate Developer Mode or to run Python as an administrator. In order to see activate developer mode, see this article: https://docs.microsoft.com/en-us/windows/apps/get-started/enable-your-device-for-development\n",
      "  warnings.warn(message)\n"
     ]
    },
    {
     "data": {
      "application/vnd.jupyter.widget-view+json": {
       "model_id": "cb3bb0160fe94085b6ccb6e4aa541ab7",
       "version_major": 2,
       "version_minor": 0
      },
      "text/plain": [
       "sentencepiece.bpe.model:   0%|          | 0.00/5.07M [00:00<?, ?B/s]"
      ]
     },
     "metadata": {},
     "output_type": "display_data"
    },
    {
     "data": {
      "application/vnd.jupyter.widget-view+json": {
       "model_id": "b9ff89e9cda74ebba3fc57aae6cc0ffb",
       "version_major": 2,
       "version_minor": 0
      },
      "text/plain": [
       "tokenizer.json:   0%|          | 0.00/9.10M [00:00<?, ?B/s]"
      ]
     },
     "metadata": {},
     "output_type": "display_data"
    },
    {
     "data": {
      "application/vnd.jupyter.widget-view+json": {
       "model_id": "69c5a1e87cae4630a9339bc2aa2856b3",
       "version_major": 2,
       "version_minor": 0
      },
      "text/plain": [
       "config.json:   0%|          | 0.00/616 [00:00<?, ?B/s]"
      ]
     },
     "metadata": {},
     "output_type": "display_data"
    },
    {
     "name": "stderr",
     "output_type": "stream",
     "text": [
      "c:\\Users\\mattb\\Documents\\GitHub\\Reddit_AITA_Finetuning\\aita-finetuning\\Lib\\site-packages\\pytorch_lightning\\core\\saving.py:188: Found keys that are not in the model state dict but in the checkpoint: ['encoder.model.embeddings.position_ids']\n",
      "INFO:pytorch_lightning.utilities.rank_zero:GPU available: True (cuda), used: True\n",
      "INFO:pytorch_lightning.utilities.rank_zero:TPU available: False, using: 0 TPU cores\n",
      "INFO:pytorch_lightning.utilities.rank_zero:IPU available: False, using: 0 IPUs\n",
      "INFO:pytorch_lightning.utilities.rank_zero:HPU available: False, using: 0 HPUs\n",
      "INFO:pytorch_lightning.utilities.rank_zero:You are using a CUDA device ('NVIDIA GeForce RTX 3070') that has Tensor Cores. To properly utilize them, you should set `torch.set_float32_matmul_precision('medium' | 'high')` which will trade-off precision for performance. For more details, read https://pytorch.org/docs/stable/generated/torch.set_float32_matmul_precision.html#torch.set_float32_matmul_precision\n",
      "INFO:pytorch_lightning.accelerators.cuda:LOCAL_RANK: 0 - CUDA_VISIBLE_DEVICES: [0]\n"
     ]
    },
    {
     "data": {
      "image/png": "[encoded data removed]",
      "text/plain": [
       "<Figure size 800x600 with 2 Axes>"
      ]
     },
     "metadata": {},
     "output_type": "display_data"
    }
   ],
   "source": [
    "Model_Evaluator.evaluate_model(\n",
    "    submission_texts=submission_texts,\n",
    "    predictions=predictions,\n",
    "    references=references,\n",
    "    AITA_classes=predicted_classes,\n",
    "    correct_AITA_classes=correct_classes,\n",
    "    ambiguity_scores=ambiguity_scores,\n",
    "    classification_type=classification_type,\n",
    "    output_files=output_files\n",
    ")"
   ]
  },
  {
   "cell_type": "code",
   "execution_count": 13,
   "metadata": {},
   "outputs": [
    {
     "data": {
      "text/plain": [
       "['yta- your sister obviously has a lot of complicated feelings about your mother. that’s okay. it’s not your place to deny her right to participate in this tradition. your are being cruel.',\n",
       " \"nta. he's obviously hiding something. no sane person with nothing to hide *locks up their clothes*.\\n\\nit's completely normal to go through pockets when doing the laundry, either to take out forgotten cash or receipts.\\n\\ni'm willing to bet there was a phone number on that piece of paper.\",\n",
       " \"nta. \\n\\neven if you didn't have diabetes. people dont get to come into public space and dictate anyone else's acceptable behaviour.\",\n",
       " 'yta. i can’t believe you were taking a shot at the interview, got caught, and even have to ask.',\n",
       " 'yta. \\n\\nyou and your husband should move to the living room. it’s *your* life choices that are preventing your kids from having a healthy amount of room to help them develop a sense of individuality and autonomy. \\n\\nyour son and daughter’s quality of life needs to be a priority. i understand that you can’t afford a house where you’re living, but for the sake of these kids  (the lack of privacy for two teens of different genders is going to get extremely awkward, if not already- my guess is they’ve  been hiding their discomfort from you) you might want to consider moving to a place where *all* members of your family can thrive. \\n\\n*bracing for downvotes*',\n",
       " 'nta. she’s being extremely controlling and refusing to pay for something she broke is a huge red flag. 🚩 \\n\\nyou’ve been way nicer to her about this than i would be. she should be begging forgiveness not accusing you of being an ah.',\n",
       " 'yta. it started okay. you had a concern for the animal’s well being and seemed to voice it respectfully. she then showed that she was, in fact, knowledgeable of potential issues, and planned properly for them, as well as showing that she knew her own dog better than you do. at that point, you should have backed off. instead, you escalated. and for that, you are the asshole.',\n",
       " \"nta you allowed them all to use your pans, pots, cutlery etc so they didn't have to spend money on their own. you told them just not to use something sentimental to you. they used it multiple times and then you had a sit down with them and explained again to not use it and why. they ignored all of that and used it when their friends were over. to make it worse they threw a tantrum the next morning that you put up your own stuff after they disrespected you and didn't even apologize. in fact they called you names. i'd honestly keep all of your stuff in your room from now on and they can go to the store and start purchasing stuff they will need.\",\n",
       " 'yta your daughter is an adult, why are you treating her like a 16 year old? and sending her to her room?\\n\\nalso, you know you have the flu and you go to a wedding and expose everyone there? that’s a huge ahole move.',\n",
       " 'yta,  \\nsounds like all the guys on your team are ah too.  this totally creates an atmosphere where females don\\'t feel like part of the team. also, if it is common for the men you work with to talk about \"you know\" then it is a toxic workplace and you need to change.']"
      ]
     },
     "execution_count": 13,
     "metadata": {},
     "output_type": "execute_result"
    }
   ],
   "source": [
    "references"
   ]
  },
  {
   "cell_type": "code",
   "execution_count": 22,
   "metadata": {},
   "outputs": [
    {
     "data": {
      "text/plain": [
       "[\"nta. you're the one who needs to ask yourself why she wants the pin and what it means to her.\",\n",
       " 'nta. the paper you pulled out is just a piece of paper. your husband has no right to tell you what he thinks about your search of his pockets. if you want to see important documents, you should ask him.',\n",
       " 'yta. if you want to control other people then you book all the seats in a row or you fucking fly private.',\n",
       " 'yta. you were just trying to calm your nerves and you should have been more careful with the absinthe.',\n",
       " \"nta. you're letting your daughter think she's entitled to her own space.\",\n",
       " 'nta. the idea that your girlfriend was going to ruin your weekend trip is not acceptable. she should pay for a new prosthesis.',\n",
       " \"yta. you should've minded your own business.\",\n",
       " \"nta. you have to be willing to punish them for breaking your rules, and it's not like they're going to get away with it for the rest of their lives.\",\n",
       " 'nta. if you are sick and your daughter is bored and wants to go out with you, then she can drive to the store herself.',\n",
       " 'nta. she’s not the one who said “cultural fit” was an excuse.']"
      ]
     },
     "execution_count": 22,
     "metadata": {},
     "output_type": "execute_result"
    }
   ],
   "source": [
    "predictions"
   ]
  },
  {
   "cell_type": "code",
   "execution_count": 3,
   "metadata": {},
   "outputs": [],
   "source": [
    "import json\n",
    "\n",
    "with open('flan-t5-xl-reddit-AITA-binary-predictions.json') as f:\n",
    "    results = json.load(f)\n",
    "\n",
    "predictions = results['prediction_texts']\n",
    "references = results['reference_texts']"
   ]
  },
  {
   "cell_type": "code",
   "execution_count": 6,
   "metadata": {},
   "outputs": [],
   "source": [
    "import evaluate"
   ]
  },
  {
   "cell_type": "code",
   "execution_count": 7,
   "metadata": {},
   "outputs": [
    {
     "name": "stderr",
     "output_type": "stream",
     "text": [
      "Using default BLEURT-Base checkpoint for sequence maximum length 128. You can use a bigger model for better results with e.g.: evaluate.load('bleurt', 'bleurt-large-512').\n"
     ]
    },
    {
     "name": "stdout",
     "output_type": "stream",
     "text": [
      "WARNING:tensorflow:From c:\\Users\\mattb\\Documents\\GitHub\\Reddit_AITA_Finetuning\\aita-finetuning\\Lib\\site-packages\\bleurt\\score.py:160: The name tf.logging.info is deprecated. Please use tf.compat.v1.logging.info instead.\n",
      "\n",
      "INFO:tensorflow:Reading checkpoint C:\\Users\\mattb\\.cache\\huggingface\\metrics\\bleurt\\default\\downloads\\extracted\\73d5ddb07d67be3ce7f58e9b0f73d9bde6de73ebf7fa330f1903ba25843d96e7\\bleurt-base-128.\n",
      "INFO:tensorflow:Config file found, reading.\n",
      "INFO:tensorflow:Will load checkpoint bert_custom\n",
      "INFO:tensorflow:Loads full paths and checks that files exists.\n",
      "INFO:tensorflow:... name:bert_custom\n",
      "INFO:tensorflow:... vocab_file:vocab.txt\n",
      "INFO:tensorflow:... bert_config_file:bert_config.json\n",
      "INFO:tensorflow:... do_lower_case:True\n",
      "INFO:tensorflow:... max_seq_length:128\n",
      "INFO:tensorflow:Creating BLEURT scorer.\n",
      "INFO:tensorflow:Creating WordPiece tokenizer.\n",
      "WARNING:tensorflow:From c:\\Users\\mattb\\Documents\\GitHub\\Reddit_AITA_Finetuning\\aita-finetuning\\Lib\\site-packages\\bleurt\\lib\\bert_tokenization.py:94: The name tf.gfile.GFile is deprecated. Please use tf.io.gfile.GFile instead.\n",
      "\n",
      "INFO:tensorflow:WordPiece tokenizer instantiated.\n",
      "INFO:tensorflow:Creating Eager Mode predictor.\n",
      "INFO:tensorflow:Loading model.\n",
      "INFO:tensorflow:BLEURT initialized.\n"
     ]
    },
    {
     "name": "stderr",
     "output_type": "stream",
     "text": [
      "INFO:tensorflow:BLEURT initialized.\n"
     ]
    }
   ],
   "source": [
    "bleurt = evaluate.load(\"bleurt\", checkpoint='BLEURT-20')"
   ]
  },
  {
   "cell_type": "code",
   "execution_count": 8,
   "metadata": {},
   "outputs": [
    {
     "data": {
      "text/plain": [
       "{'scores': [-1.1937516927719116,\n",
       "  -0.48916929960250854,\n",
       "  -1.2897040843963623,\n",
       "  -1.191359519958496,\n",
       "  -1.397039771080017,\n",
       "  -1.0501437187194824,\n",
       "  -1.3094322681427002,\n",
       "  -0.8730105757713318,\n",
       "  -1.132265329360962,\n",
       "  -1.4710850715637207]}"
      ]
     },
     "execution_count": 8,
     "metadata": {},
     "output_type": "execute_result"
    }
   ],
   "source": [
    "bleurt.compute(predictions=predictions, references=references)"
   ]
  },
  {
   "cell_type": "code",
   "execution_count": null,
   "metadata": {},
   "outputs": [],
   "source": []
  }
 ],
 "metadata": {
  "kernelspec": {
   "display_name": "Python 3",
   "language": "python",
   "name": "python3"
  },
  "language_info": {
   "codemirror_mode": {
    "name": "ipython",
    "version": 3
   },
   "file_extension": ".py",
   "mimetype": "text/x-python",
   "name": "python",
   "nbconvert_exporter": "python",
   "pygments_lexer": "ipython3",
   "version": "3.11.8"
  }
 },
 "nbformat": 4,
 "nbformat_minor": 2
}
