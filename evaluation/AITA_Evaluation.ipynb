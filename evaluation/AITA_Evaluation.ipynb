{
 "cells": [
  {
   "cell_type": "markdown",
   "metadata": {},
   "source": [
    "# Reddit AITA Finetuned Model Evaluation"
   ]
  },
  {
   "cell_type": "markdown",
   "metadata": {},
   "source": [
    "Ensure the following is set before running\n",
    "- Testing dataset (from Huggingface repository)\n",
    "- Model (from HuggingFace repository)\n",
    "- Results directory\n",
    "- Confusion matrix title"
   ]
  },
  {
   "cell_type": "markdown",
   "metadata": {},
   "source": [
    "## Prepare environment"
   ]
  },
  {
   "cell_type": "code",
   "execution_count": null,
   "metadata": {},
   "outputs": [],
   "source": [
    "%pip install transformers accelerate datasets evaluate rouge_score unbabel-comet scikit-learn matplotlib seaborn"
   ]
  },
  {
   "cell_type": "code",
   "execution_count": 11,
   "metadata": {},
   "outputs": [],
   "source": [
    "from datasets import load_dataset\n",
    "from transformers import AutoModelForSeq2SeqLM, AutoModelForCausalLM, AutoTokenizer\n",
    "import torch\n",
    "from model_evaluator import Model_Evaluator # custom class for evaluating models - see model_evaluator.py"
   ]
  },
  {
   "cell_type": "code",
   "execution_count": 12,
   "metadata": {},
   "outputs": [
    {
     "data": {
      "application/vnd.jupyter.widget-view+json": {
       "model_id": "39c18646d60c4ec8b240b85937cca583",
       "version_major": 2,
       "version_minor": 0
      },
      "text/plain": [
       "VBox(children=(HTML(value='<center> <img\\nsrc=https://huggingface.co/front/assets/huggingface_logo-noborder.sv…"
      ]
     },
     "metadata": {},
     "output_type": "display_data"
    }
   ],
   "source": [
    "from huggingface_hub import login\n",
    "login()"
   ]
  },
  {
   "cell_type": "code",
   "execution_count": null,
   "metadata": {},
   "outputs": [],
   "source": [
    "from google.colab import drive\n",
    "\n",
    "drive.mount('/content/drive', force_remount=True)\n",
    "%cd /content/drive/MyDrive/WCU_THESIS/Evaluation"
   ]
  },
  {
   "cell_type": "markdown",
   "metadata": {},
   "source": [
    "## Load testing dataset"
   ]
  },
  {
   "cell_type": "code",
   "execution_count": null,
   "metadata": {},
   "outputs": [],
   "source": [
    "# load dataset and get test partition\n",
    "dataset = load_dataset(\"MattBoraske/reddit-AITA-submissions-and-comments\")\n",
    "test_dataset = dataset['test']"
   ]
  },
  {
   "cell_type": "markdown",
   "metadata": {},
   "source": [
    "## Load model and tokenizer"
   ]
  },
  {
   "cell_type": "code",
   "execution_count": null,
   "metadata": {},
   "outputs": [],
   "source": [
    "# load model and tokenizer\n",
    "\n",
    "hf_repo = \"MattBoraske/llama-2-7b-chat-reddit-AITA\"\n",
    "\n",
    "tokenizer = AutoTokenizer.from_pretrained(hf_repo)\n",
    "\n",
    "if 'flan-t5' in hf_repo:\n",
    "  model = AutoModelForSeq2SeqLM.from_pretrained(\n",
    "    hf_repo,\n",
    "    device_map='auto',\n",
    "    torch_dtype=torch.bfloat16\n",
    "  )\n",
    "\n",
    "elif 'llama' in hf_repo:\n",
    "  model = AutoModelForCausalLM.from_pretrained(\n",
    "    hf_repo,\n",
    "    device_map='auto',\n",
    "    torch_dtype=torch.bfloat16\n",
    "  )\n",
    "else:\n",
    "  print('Error with HuggingFace model repository: Is neither flan-t5 or llama-2')"
   ]
  },
  {
   "cell_type": "code",
   "execution_count": null,
   "metadata": {},
   "outputs": [],
   "source": [
    "model.config"
   ]
  },
  {
   "cell_type": "code",
   "execution_count": null,
   "metadata": {},
   "outputs": [],
   "source": [
    "model.generation_config"
   ]
  },
  {
   "cell_type": "markdown",
   "metadata": {},
   "source": [
    "## Generate Model Predictions"
   ]
  },
  {
   "cell_type": "code",
   "execution_count": 6,
   "metadata": {},
   "outputs": [],
   "source": [
    "results_directory = 'AITA_ZeroShot_Evaluations\\llama2-13b-chat\\multiclass\\\\' # directory to store eval results"
   ]
  },
  {
   "cell_type": "code",
   "execution_count": null,
   "metadata": {},
   "outputs": [],
   "source": [
    "# generate model predictions on test dataset\n",
    "\n",
    "submission_texts, predictions, references, predicted_classes, correct_classes, ambiguity_scores = Model_Evaluator.get_model_predictions(\n",
    "    model, \n",
    "    tokenizer,\n",
    "    test_dataset,\n",
    "    f'{results_directory}generation_results.json'\n",
    ")"
   ]
  },
  {
   "cell_type": "markdown",
   "metadata": {},
   "source": [
    "## Evaluate Model Predictions"
   ]
  },
  {
   "cell_type": "code",
   "execution_count": 9,
   "metadata": {},
   "outputs": [],
   "source": [
    "confusion_matrix_title = 'Llama2-13b-Chat-Reddit-AITA MulticlassClassifications' # title for confusion matrix made during eval"
   ]
  },
  {
   "cell_type": "code",
   "execution_count": 4,
   "metadata": {},
   "outputs": [],
   "source": [
    "import json\n",
    "\n",
    "with open(f'AITA_ZeroShot_Evaluations\\llama2-13b-chat\\\\multiclass\\generation_results.json', 'r') as f:\n",
    "    generation_results = json.load(f)\n",
    "\n",
    "submission_texts = generation_results['submission_texts']\n",
    "predictions = generation_results['prediction_texts']\n",
    "references = generation_results['reference_texts']\n",
    "predicted_classes = generation_results['predicted_AITA_classes']\n",
    "correct_classes = generation_results['correct_AITA_classes']\n",
    "ambiguity_scores = generation_results['ambiguity_scores']"
   ]
  },
  {
   "cell_type": "code",
   "execution_count": 14,
   "metadata": {},
   "outputs": [
    {
     "name": "stdout",
     "output_type": "stream",
     "text": [
      "Predictions with no AITA class: 888\n",
      "Classification report written to AITA_ZeroShot_Evaluations\\llama2-13b-chat\\multiclass\\classification_report.txt\n",
      "Confusion matrix plot written to AITA_ZeroShot_Evaluations\\llama2-13b-chat\\multiclass\\confusion_matrix.png\n",
      "Matthews correlation coefficient written to AITA_ZeroShot_Evaluations\\llama2-13b-chat\\multiclass\\mcc.json\n"
     ]
    },
    {
     "data": {
      "application/vnd.jupyter.widget-view+json": {
       "model_id": "070e3545b9c14828b49046c5e8fb77d5",
       "version_major": 2,
       "version_minor": 0
      },
      "text/plain": [
       "Fetching 5 files:   0%|          | 0/5 [00:00<?, ?it/s]"
      ]
     },
     "metadata": {},
     "output_type": "display_data"
    },
    {
     "name": "stderr",
     "output_type": "stream",
     "text": [
      "INFO:pytorch_lightning.utilities.migration.utils:Lightning automatically upgraded your loaded checkpoint from v1.8.3.post1 to v2.2.1. To apply the upgrade to your files permanently, run `python -m pytorch_lightning.utilities.upgrade_checkpoint C:\\Users\\mattb\\.cache\\huggingface\\hub\\models--Unbabel--wmt22-comet-da\\snapshots\\371e9839ca4e213dde891b066cf3080f75ec7e72\\checkpoints\\model.ckpt`\n",
      "c:\\Users\\mattb\\Documents\\GitHub\\Reddit_AITA_Finetuning\\aita-finetuning\\Lib\\site-packages\\pytorch_lightning\\core\\saving.py:188: Found keys that are not in the model state dict but in the checkpoint: ['encoder.model.embeddings.position_ids']\n",
      "INFO:pytorch_lightning.utilities.rank_zero:GPU available: True (cuda), used: True\n",
      "INFO:pytorch_lightning.utilities.rank_zero:TPU available: False, using: 0 TPU cores\n",
      "INFO:pytorch_lightning.utilities.rank_zero:IPU available: False, using: 0 IPUs\n",
      "INFO:pytorch_lightning.utilities.rank_zero:HPU available: False, using: 0 HPUs\n",
      "INFO:pytorch_lightning.utilities.rank_zero:You are using a CUDA device ('NVIDIA GeForce RTX 3070') that has Tensor Cores. To properly utilize them, you should set `torch.set_float32_matmul_precision('medium' | 'high')` which will trade-off precision for performance. For more details, read https://pytorch.org/docs/stable/generated/torch.set_float32_matmul_precision.html#torch.set_float32_matmul_precision\n",
      "INFO:pytorch_lightning.accelerators.cuda:LOCAL_RANK: 0 - CUDA_VISIBLE_DEVICES: [0]\n"
     ]
    },
    {
     "data": {
      "image/png": "[encoded data removed]",
      "text/plain": [
       "<Figure size 800x600 with 2 Axes>"
      ]
     },
     "metadata": {},
     "output_type": "display_data"
    }
   ],
   "source": [
    "# run model evaluation\n",
    "\n",
    "classification_type = 'multi'\n",
    "output_files = [\n",
    "    f'{results_directory}classification_report.txt',\n",
    "    (confusion_matrix_title, f'{results_directory}confusion_matrix.png'),\n",
    "    f'{results_directory}mcc.json',\n",
    "    f'{results_directory}ROGUE_scores.json',\n",
    "    f'{results_directory}BLEU_scores.json',\n",
    "    f'{results_directory}COMET_scores.json'\n",
    "]\n",
    "\n",
    "Model_Evaluator.evaluate_model(\n",
    "    submission_texts=submission_texts,\n",
    "    predictions=predictions,\n",
    "    references=references,\n",
    "    AITA_classes=predicted_classes,\n",
    "    correct_AITA_classes=correct_classes,\n",
    "    ambiguity_scores=ambiguity_scores,\n",
    "    classification_type=classification_type,\n",
    "    output_files=output_files\n",
    ")"
   ]
  },
  {
   "cell_type": "code",
   "execution_count": null,
   "metadata": {},
   "outputs": [],
   "source": []
  }
 ],
 "metadata": {
  "kernelspec": {
   "display_name": "Python 3 (ipykernel)",
   "language": "python",
   "name": "python3"
  },
  "language_info": {
   "codemirror_mode": {
    "name": "ipython",
    "version": 3
   },
   "file_extension": ".py",
   "mimetype": "text/x-python",
   "name": "python",
   "nbconvert_exporter": "python",
   "pygments_lexer": "ipython3",
   "version": "3.11.8"
  }
 },
 "nbformat": 4,
 "nbformat_minor": 4
}
